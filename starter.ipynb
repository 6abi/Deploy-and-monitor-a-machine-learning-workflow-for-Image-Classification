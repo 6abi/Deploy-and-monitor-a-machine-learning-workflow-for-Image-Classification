{
 "cells": [
  {
   "cell_type": "markdown",
   "metadata": {},
   "source": [
    "# Deploy and monitor a machine learning workflow for Image Classification"
   ]
  },
  {
   "cell_type": "markdown",
   "metadata": {},
   "source": [
    "## Setting up this notebook\n",
    "\n",
    "Notes about the instance size and kernel setup: this notebook has been tested on\n",
    "\n",
    "1. The `Python 3 (Data Science)` kernel\n",
    "2. The `ml.t3.medium` instance\n",
    "\n",
    "## Data Staging\n",
    "\n",
    "We'll use a sample dataset called CIFAR to simulate the challenges Scones Unlimited are facing in Image Classification. In order to start working with CIFAR we'll need to:\n",
    "\n",
    "1. Extract the data from a hosting service\n",
    "2. Transform it into a usable shape and format\n",
    "3. Load it into a production system\n",
    "\n",
    "In other words, we're going to do some simple ETL!\n",
    "\n",
    "### 1. Extract the data from the hosting service\n",
    "\n",
    "In the cell below, define a function `extract_cifar_data` that extracts python version of the CIFAR-100 dataset. The CIFAR dataaset is open source and generously hosted by the University of Toronto at: https://www.cs.toronto.edu/~kriz/cifar-100-python.tar.gz "
   ]
  },
  {
   "cell_type": "code",
   "execution_count": 3,
   "metadata": {},
   "outputs": [],
   "source": [
    "import requests\n",
    "\n",
    "def extract_cifar_data(url, filename=\"cifar.tar.gz\"):\n",
    "    \"\"\"A function for extracting the CIFAR-100 dataset and storing it as a gzipped file\n",
    "    \n",
    "    Arguments:\n",
    "    url      -- the URL where the dataset is hosted\n",
    "    filename -- the full path where the dataset will be written\n",
    "    \n",
    "    \"\"\"\n",
    "    \n",
    "    # Todo: request the data from the data url\n",
    "    # Hint: use `requests.get` method\n",
    "    r = requests.get(url)\n",
    "    with open(filename, \"wb\") as file_context:\n",
    "        file_context.write(r.content)\n",
    "    return"
   ]
  },
  {
   "cell_type": "markdown",
   "metadata": {},
   "source": [
    "Let's test it out! Run the following cell and check whether a new file `cifar.tar.gz` is created in the file explorer."
   ]
  },
  {
   "cell_type": "code",
   "execution_count": 4,
   "metadata": {},
   "outputs": [],
   "source": [
    "extract_cifar_data(\"https://www.cs.toronto.edu/~kriz/cifar-100-python.tar.gz\")"
   ]
  },
  {
   "cell_type": "markdown",
   "metadata": {},
   "source": [
    "### 2. Transform the data into a usable shape and format\n",
    "\n",
    "Clearly, distributing the data as a gzipped archive makes sense for the hosting service! It saves on bandwidth, storage, and it's a widely-used archive format. In fact, it's so widely used that the Python community ships a utility for working with them, `tarfile`, as part of its Standard Library. Execute the following cell to decompress your extracted dataset:"
   ]
  },
  {
   "cell_type": "code",
   "execution_count": 2,
   "metadata": {},
   "outputs": [],
   "source": [
    "import tarfile\n",
    "\n",
    "with tarfile.open(\"cifar.tar.gz\", \"r:gz\") as tar:\n",
    "    tar.extractall()"
   ]
  },
  {
   "cell_type": "markdown",
   "metadata": {},
   "source": [
    "A new folder `cifar-100-python` should be created, containing `meta`, `test`, and `train` files. These files are `pickles` and the [CIFAR homepage](https://www.cs.toronto.edu/~kriz/cifar.html) provides a simple script that can be used to load them. We've adapted the script below for you to run:"
   ]
  },
  {
   "cell_type": "code",
   "execution_count": null,
   "metadata": {},
   "outputs": [],
   "source": [
    "## 1°)------- INITIAL DATASETS --->"
   ]
  },
  {
   "cell_type": "code",
   "execution_count": 3,
   "metadata": {},
   "outputs": [],
   "source": [
    "import pickle\n",
    "\n",
    "with open(\"./cifar-100-python/meta\", \"rb\") as f:\n",
    "    dataset_meta = pickle.load(f, encoding='bytes')\n",
    "\n",
    "with open(\"./cifar-100-python/test\", \"rb\") as f:\n",
    "    dataset_test = pickle.load(f, encoding='bytes')\n",
    "\n",
    "with open(\"./cifar-100-python/train\", \"rb\") as f:\n",
    "    dataset_train = pickle.load(f, encoding='bytes')"
   ]
  },
  {
   "cell_type": "code",
   "execution_count": 4,
   "metadata": {},
   "outputs": [
    {
     "data": {
      "text/plain": [
       "dict_keys([b'filenames', b'batch_label', b'fine_labels', b'coarse_labels', b'data'])"
      ]
     },
     "execution_count": 4,
     "metadata": {},
     "output_type": "execute_result"
    }
   ],
   "source": [
    "# Feel free to explore the datasets\n",
    "\n",
    "dataset_train.keys()"
   ]
  },
  {
   "cell_type": "code",
   "execution_count": 5,
   "metadata": {},
   "outputs": [
    {
     "name": "stdout",
     "output_type": "stream",
     "text": [
      "b'filenames'\n",
      "b'bos_taurus_s_000507.png'\n",
      "b'batch_label'\n",
      "116\n",
      "b'fine_labels'\n",
      "19\n",
      "b'coarse_labels'\n",
      "11\n",
      "b'data'\n",
      "[255 255 255 ...  10  59  79]\n"
     ]
    }
   ],
   "source": [
    "for i in range(len(list(dataset_train.keys()))):\n",
    "    print(list(dataset_train.keys())[i])\n",
    "    print(list(dataset_train.values())[i][0])"
   ]
  },
  {
   "cell_type": "markdown",
   "metadata": {},
   "source": [
    "As documented on the homepage, `b'data'` contains rows of 3073 unsigned integers, representing three channels (red, green, and blue) for one 32x32 pixel image per row."
   ]
  },
  {
   "cell_type": "code",
   "execution_count": 5,
   "metadata": {},
   "outputs": [
    {
     "data": {
      "text/plain": [
       "3072"
      ]
     },
     "execution_count": 5,
     "metadata": {},
     "output_type": "execute_result"
    }
   ],
   "source": [
    "32*32*3"
   ]
  },
  {
   "cell_type": "markdown",
   "metadata": {},
   "source": [
    "For a simple gut-check, let's transform one of our images. Each 1024 items in a row is a channel (red, green, then blue). Each 32 items in the channel are a row in the 32x32 image. Using python, we can stack these channels into a 32x32x3 array, and save it as a PNG file:"
   ]
  },
  {
   "cell_type": "code",
   "execution_count": 6,
   "metadata": {},
   "outputs": [],
   "source": [
    "import numpy as np\n",
    "\n",
    "# Each 1024 in a row is a channel (red, green, then blue)\n",
    "row = dataset_train[b'data'][0]\n",
    "red, green, blue = row[0:1024], row[1024:2048], row[2048:]\n",
    "\n",
    "# Each 32 items in the channel are a row in the 32x32 image\n",
    "red = red.reshape(32,32)\n",
    "green = green.reshape(32,32)\n",
    "blue = blue.reshape(32,32)\n",
    "\n",
    "# Combine the channels into a 32x32x3 image!\n",
    "combined = np.dstack((red,green,blue))"
   ]
  },
  {
   "cell_type": "markdown",
   "metadata": {},
   "source": [
    "For a more concise version, consider the following:"
   ]
  },
  {
   "cell_type": "code",
   "execution_count": 7,
   "metadata": {},
   "outputs": [],
   "source": [
    "# All in one:\n",
    "test_image = np.dstack((\n",
    "    row[0:1024].reshape(32,32),\n",
    "    row[1024:2048].reshape(32,32),\n",
    "    row[2048:].reshape(32,32)\n",
    "))"
   ]
  },
  {
   "cell_type": "code",
   "execution_count": 8,
   "metadata": {},
   "outputs": [
    {
     "data": {
      "image/png": "[encoded data removed]",
      "text/plain": [
       "<Figure size 432x288 with 1 Axes>"
      ]
     },
     "metadata": {
      "needs_background": "light"
     },
     "output_type": "display_data"
    }
   ],
   "source": [
    "import matplotlib.pyplot as plt\n",
    "plt.imshow(test_image);"
   ]
  },
  {
   "cell_type": "markdown",
   "metadata": {},
   "source": [
    "Looks like a cow! Let's check the label. `dataset_meta` contains label names in order, and `dataset_train` has a list of labels for each row."
   ]
  },
  {
   "cell_type": "code",
   "execution_count": 6,
   "metadata": {},
   "outputs": [
    {
     "data": {
      "text/plain": [
       "19"
      ]
     },
     "execution_count": 6,
     "metadata": {},
     "output_type": "execute_result"
    }
   ],
   "source": [
    "dataset_train[b'fine_labels'][0]"
   ]
  },
  {
   "cell_type": "markdown",
   "metadata": {},
   "source": [
    "Our image has a label of `19`, so let's see what the 19th item is in the list of label names."
   ]
  },
  {
   "cell_type": "code",
   "execution_count": 7,
   "metadata": {},
   "outputs": [
    {
     "name": "stdout",
     "output_type": "stream",
     "text": [
      "b'cattle'\n"
     ]
    }
   ],
   "source": [
    "print(dataset_meta[b'fine_label_names'][19])"
   ]
  },
  {
   "cell_type": "markdown",
   "metadata": {},
   "source": [
    "Ok! 'cattle' sounds about right. By the way, using the previous two lines we can do:"
   ]
  },
  {
   "cell_type": "code",
   "execution_count": 5,
   "metadata": {},
   "outputs": [
    {
     "name": "stdout",
     "output_type": "stream",
     "text": [
      "b'cattle'\n"
     ]
    }
   ],
   "source": [
    "n = 0\n",
    "print(dataset_meta[b'fine_label_names'][dataset_train[b'fine_labels'][n]])"
   ]
  },
  {
   "cell_type": "markdown",
   "metadata": {},
   "source": [
    "Now we know how to check labels, is there a way that we can also check file names? `dataset_train` also contains a `b'filenames'` key. Let's see what we have here:"
   ]
  },
  {
   "cell_type": "code",
   "execution_count": 16,
   "metadata": {},
   "outputs": [
    {
     "name": "stdout",
     "output_type": "stream",
     "text": [
      "b'bos_taurus_s_000507.png'\n"
     ]
    }
   ],
   "source": [
    "print(dataset_train[b'filenames'][0])"
   ]
  },
  {
   "cell_type": "markdown",
   "metadata": {},
   "source": [
    "\"Taurus\" is the name of a subspecies of cattle, so this looks like a pretty reasonable filename. To save an image we can also do:"
   ]
  },
  {
   "cell_type": "code",
   "execution_count": 17,
   "metadata": {},
   "outputs": [],
   "source": [
    "plt.imsave(\"file.png\", test_image)"
   ]
  },
  {
   "cell_type": "markdown",
   "metadata": {},
   "source": [
    "Your new PNG file should now appear in the file explorer -- go ahead and pop it open to see!\n",
    "\n",
    "Now that you know how to reshape the images, save them as files, and capture their filenames and labels, let's just capture all the bicycles and motorcycles and save them. Scones Unlimited can use a model that tells these apart to route delivery drivers automatically.\n",
    "\n",
    "In the following cell, identify the label numbers for Bicycles and Motorcycles:"
   ]
  },
  {
   "cell_type": "code",
   "execution_count": 8,
   "metadata": {},
   "outputs": [
    {
     "name": "stdout",
     "output_type": "stream",
     "text": [
      "dict_keys([b'fine_label_names', b'coarse_label_names'])\n",
      "range(0, 100)\n"
     ]
    }
   ],
   "source": [
    "print(dataset_meta.keys())\n",
    "print(range(len(dataset_meta[b'fine_label_names'])))"
   ]
  },
  {
   "cell_type": "code",
   "execution_count": 9,
   "metadata": {},
   "outputs": [
    {
     "name": "stdout",
     "output_type": "stream",
     "text": [
      "[8, 48]\n"
     ]
    }
   ],
   "source": [
    "import pandas as pd\n",
    "\n",
    "labels_numbers = []\n",
    "\n",
    "# Todo: Filter the dataset_train and dataset_meta objects to find the label numbers for Bicycle and Motorcycles\n",
    "for n in range(len(dataset_meta[b'fine_label_names'])):\n",
    "    if ((dataset_meta[b'fine_label_names'][n] == b'bicycle') or (dataset_meta[b'fine_label_names'][n] == b'motorcycle')):\n",
    "        labels_numbers.append(n)\n",
    "\n",
    "print(labels_numbers)"
   ]
  },
  {
   "cell_type": "markdown",
   "metadata": {},
   "source": [
    "Good job! We only need objects with label 8 and 48 -- this drastically simplifies our handling of the data! Below we construct a dataframe for you, and you can safely drop the rows that don't contain observations about bicycles and motorcycles. Fill in the missing lines below to drop all other rows:"
   ]
  },
  {
   "cell_type": "code",
   "execution_count": null,
   "metadata": {},
   "outputs": [],
   "source": [
    "## 2°)-----------DATAFRAMES ---->"
   ]
  },
  {
   "cell_type": "code",
   "execution_count": 10,
   "metadata": {},
   "outputs": [],
   "source": [
    "#Construct the dataframe\n",
    "df_train = pd.DataFrame({\n",
    "    \"filenames\": dataset_train[b'filenames'],\n",
    "    \"labels\": dataset_train[b'fine_labels'],\n",
    "    \"row\": range(len(dataset_train[b'filenames']))\n",
    "})\n",
    "\n",
    "# Drop all rows from df_train where label is not 8 or 48\n",
    "df_train.drop(df_train.query(\"labels not in (48,8)\").index, inplace=True)\n",
    "\n",
    "# Decode df_train.filenames so they are regular strings\n",
    "df_train[\"filenames\"] = df_train[\"filenames\"].apply(\n",
    "    lambda x: x.decode(\"utf-8\")\n",
    ")\n",
    "\n",
    "\n",
    "df_test = pd.DataFrame({\n",
    "    \"filenames\": dataset_test[b'filenames'],\n",
    "    \"labels\": dataset_test[b'fine_labels'],\n",
    "    \"row\": range(len(dataset_test[b'filenames']))\n",
    "})\n",
    "\n",
    "# Drop all rows from df_test where label is not 8 or 48\n",
    "df_test.drop(df_test.query(\"labels not in (48,8)\").index, inplace=True)\n",
    "\n",
    "# Decode df_test.filenames so they are regular strings\n",
    "df_test[\"filenames\"] = df_test[\"filenames\"].apply(\n",
    "    lambda x: x.decode(\"utf-8\")\n",
    ")"
   ]
  },
  {
   "cell_type": "code",
   "execution_count": 10,
   "metadata": {},
   "outputs": [
    {
     "name": "stdout",
     "output_type": "stream",
     "text": [
      "(1000, 3) (200, 3)\n"
     ]
    }
   ],
   "source": [
    "print(df_train.shape, df_test.shape)"
   ]
  },
  {
   "cell_type": "markdown",
   "metadata": {},
   "source": [
    "Now that the data is filtered for just our classes, we can save all our images."
   ]
  },
  {
   "cell_type": "code",
   "execution_count": 25,
   "metadata": {},
   "outputs": [],
   "source": [
    "!mkdir ./train\n",
    "!mkdir ./test"
   ]
  },
  {
   "cell_type": "markdown",
   "metadata": {},
   "source": [
    "In the previous sections we introduced you to several key snippets of code:\n",
    "\n",
    "1. Grabbing the image data:\n",
    "\n",
    "```python\n",
    "dataset_train[b'data'][0]\n",
    "```\n",
    "\n",
    "2. A simple idiom for stacking the image data into the right shape\n",
    "\n",
    "```python\n",
    "import numpy as np\n",
    "np.dstack((\n",
    "    row[0:1024].reshape(32,32),\n",
    "    row[1024:2048].reshape(32,32),\n",
    "    row[2048:].reshape(32,32)\n",
    "))\n",
    "```\n",
    "\n",
    "3. A simple `matplotlib` utility for saving images\n",
    "\n",
    "```python\n",
    "plt.imsave(path+row['filenames'], target)\n",
    "```\n",
    "\n",
    "Compose these together into a function that saves all the images into the `./test` and `./train` directories. Use the comments in the body of the `save_images` function below to guide your construction of the function:\n"
   ]
  },
  {
   "cell_type": "code",
   "execution_count": 11,
   "metadata": {},
   "outputs": [],
   "source": [
    "def save_images(n, path, dataset):\n",
    "    #Grab the image data in row-major form\n",
    "    if (dataset == 'train'):\n",
    "        img = dataset_train[b'data'][n]\n",
    "    elif (dataset == 'test'):\n",
    "        img = dataset_test[b'data'][n]\n",
    "    \n",
    "    # Consolidated stacking/reshaping from earlier\n",
    "    target = np.dstack((\n",
    "        img[0:1024].reshape(32,32),\n",
    "        img[1024:2048].reshape(32,32),\n",
    "        img[2048:].reshape(32,32)\n",
    "    ))\n",
    "    \n",
    "    # Save the image\n",
    "    if (dataset == 'train'):\n",
    "        filename = dataset_train[b'filenames'][n]\n",
    "    elif (dataset == 'test'):\n",
    "        filename = dataset_test[b'filenames'][n]\n",
    "    \n",
    "    filename = filename.decode(\"utf-8\")\n",
    "    plt.imsave(path+filename, target)\n",
    "    \n",
    "    # Return any signal data you want for debugging\n",
    "    return dataset, 'saved....'\n",
    "\n"
   ]
  },
  {
   "cell_type": "code",
   "execution_count": null,
   "metadata": {},
   "outputs": [],
   "source": [
    "# TODO: save ALL images using the save_images function\n",
    "path = 'train/'\n",
    "for n in range(len(dataset_train[b'filenames'])):\n",
    "    if dataset_train[b'fine_labels'][n] == 8:\n",
    "        save_images(n, path, 'train')\n",
    "\n",
    "for n in range(len(dataset_train[b'filenames'])):\n",
    "    if dataset_train[b'fine_labels'][n] == 48:\n",
    "        save_images(n, path, 'train')\n"
   ]
  },
  {
   "cell_type": "code",
   "execution_count": null,
   "metadata": {},
   "outputs": [],
   "source": [
    "path = 'test/'\n",
    "for n in range(len(dataset_test[b'filenames'])):\n",
    "    if dataset_test[b'fine_labels'][n] == 8:\n",
    "        save_images(n, path, 'test')\n",
    "\n",
    "for n in range(len(dataset_test[b'filenames'])):\n",
    "    if dataset_test[b'fine_labels'][n] == 48:\n",
    "        save_images(n, path, 'test')"
   ]
  },
  {
   "cell_type": "markdown",
   "metadata": {},
   "source": [
    "### 3. Load the data\n",
    "\n",
    "Now we can load the data into S3.\n",
    "\n",
    "Using the sagemaker SDK grab the current region, execution role, and bucket."
   ]
  },
  {
   "cell_type": "code",
   "execution_count": null,
   "metadata": {},
   "outputs": [],
   "source": [
    "## 3°)------- get sagemaker session information --->"
   ]
  },
  {
   "cell_type": "code",
   "execution_count": 13,
   "metadata": {},
   "outputs": [
    {
     "name": "stdout",
     "output_type": "stream",
     "text": [
      "Default Bucket: sagemaker-us-east-1-513508352252\n",
      "AWS Region: us-east-1\n",
      "RoleArn: arn:aws:iam::513508352252:role/sagemaker_full_access_3\n"
     ]
    }
   ],
   "source": [
    "import sagemaker\n",
    "\n",
    "ses = sagemaker.Session()\n",
    "\n",
    "bucket = ses.default_bucket() ## TODO: fill in\n",
    "print(\"Default Bucket: {}\".format(bucket))\n",
    "\n",
    "region = ses.boto_region_name ## TODO: fill in\n",
    "print(\"AWS Region: {}\".format(region))\n",
    "\n",
    "role = sagemaker.get_execution_role() ## TODO: fill in\n",
    "print(\"RoleArn: {}\".format(role))"
   ]
  },
  {
   "cell_type": "markdown",
   "metadata": {},
   "source": [
    "With this data we can easily sync your data up into S3!"
   ]
  },
  {
   "cell_type": "code",
   "execution_count": 21,
   "metadata": {},
   "outputs": [
    {
     "name": "stdout",
     "output_type": "stream",
     "text": [
      "Train complete ---------------------------!\n"
     ]
    }
   ],
   "source": [
    "## save train images\n",
    "import os\n",
    "\n",
    "os.environ[\"DEFAULT_S3_BUCKET\"] = bucket\n",
    "!aws s3 sync ./train s3://${DEFAULT_S3_BUCKET}/train/\n",
    "print('Train complete ---------------------------!')\n"
   ]
  },
  {
   "cell_type": "code",
   "execution_count": 22,
   "metadata": {},
   "outputs": [
    {
     "name": "stdout",
     "output_type": "stream",
     "text": [
      "Test complete ---------------------------!\n"
     ]
    }
   ],
   "source": [
    "## save test images\n",
    "!aws s3 sync ./test s3://${DEFAULT_S3_BUCKET}/test/\n",
    "print('Test complete ---------------------------!')"
   ]
  },
  {
   "cell_type": "markdown",
   "metadata": {},
   "source": [
    "And that's it! You can check the bucket and verify that the items were uploaded.\n",
    "\n",
    "## Model Training\n",
    "\n",
    "For Image Classification, Sagemaker [also expects metadata](https://docs.aws.amazon.com/sagemaker/latest/dg/image-classification.html) e.g. in the form of TSV files with labels and filepaths. We can generate these using our Pandas DataFrames from earlier:"
   ]
  },
  {
   "cell_type": "code",
   "execution_count": 23,
   "metadata": {},
   "outputs": [],
   "source": [
    "def to_metadata_file(df, prefix):\n",
    "    df[\"s3_path\"] = df[\"filenames\"]\n",
    "    df[\"labels\"] = df[\"labels\"].apply(lambda x: 0 if x==8 else 1)\n",
    "    return df[[\"row\", \"labels\", \"s3_path\"]].to_csv(\n",
    "        f\"{prefix}.lst\", sep=\"\\t\", index=False, header=False\n",
    "    )\n",
    "    \n",
    "to_metadata_file(df_train.copy(), \"train\")\n",
    "to_metadata_file(df_test.copy(), \"test\")"
   ]
  },
  {
   "cell_type": "markdown",
   "metadata": {},
   "source": [
    "We can also upload our manifest files:"
   ]
  },
  {
   "cell_type": "code",
   "execution_count": 14,
   "metadata": {},
   "outputs": [],
   "source": [
    "import boto3\n",
    "\n",
    "# Upload files\n",
    "boto3.Session().resource('s3').Bucket(\n",
    "    bucket).Object('train.lst').upload_file('./train.lst')\n",
    "boto3.Session().resource('s3').Bucket(\n",
    "    bucket).Object('test.lst').upload_file('./test.lst')"
   ]
  },
  {
   "cell_type": "markdown",
   "metadata": {},
   "source": [
    "Using the `bucket` and `region` info we can get the latest prebuilt container to run our training job, and define an output location on our s3 bucket for the model. Use the `image_uris` function from the SageMaker SDK to retrieve the latest `image-classification` image below:"
   ]
  },
  {
   "cell_type": "code",
   "execution_count": null,
   "metadata": {},
   "outputs": [],
   "source": [
    "## 4°)------- retrieve last image-classification model uri and define the model output_path --->"
   ]
  },
  {
   "cell_type": "code",
   "execution_count": 15,
   "metadata": {},
   "outputs": [
    {
     "name": "stderr",
     "output_type": "stream",
     "text": [
      "Defaulting to the only supported framework/algorithm version: 1. Ignoring framework/algorithm version: latest.\n"
     ]
    }
   ],
   "source": [
    "# Use the image_uris function to retrieve the latest 'image-classification' image \n",
    "algo_image = sagemaker.image_uris.retrieve(\n",
    "    framework='image-classification',\n",
    "    region=region,\n",
    "    version='latest'\n",
    ")## TODO: fill in\n",
    "s3_output_location = f\"s3://{bucket}/models/image_model\" #*** s3 output_path for the model"
   ]
  },
  {
   "cell_type": "markdown",
   "metadata": {},
   "source": [
    "We're ready to create an estimator! Create an estimator `img_classifier_model` that uses one instance of `ml.p2.xlarge`. Ensure that y ou use the output location we defined above - we'll be referring to that later!"
   ]
  },
  {
   "cell_type": "code",
   "execution_count": null,
   "metadata": {},
   "outputs": [],
   "source": [
    "## 5°)------- create a estimator --->"
   ]
  },
  {
   "cell_type": "code",
   "execution_count": 16,
   "metadata": {},
   "outputs": [],
   "source": [
    "img_classifier_model=sagemaker.estimator.Estimator(\n",
    "    ## TODO: define your estimator options\n",
    "    output_path=s3_output_location,\n",
    "    image_uri=algo_image,\n",
    "    instance_count=1,\n",
    "    instance_type='ml.p2.xlarge',\n",
    "    role=role,\n",
    "    sagemaker_session=ses\n",
    ")"
   ]
  },
  {
   "cell_type": "markdown",
   "metadata": {},
   "source": [
    "We can also set a few key hyperparameters and define the inputs for our model:"
   ]
  },
  {
   "cell_type": "code",
   "execution_count": null,
   "metadata": {},
   "outputs": [],
   "source": [
    "## 6°)------- define hyperparameters --->"
   ]
  },
  {
   "cell_type": "code",
   "execution_count": 17,
   "metadata": {},
   "outputs": [],
   "source": [
    "img_classifier_model.set_hyperparameters(\n",
    "    image_shape=\"3,32,32\", # TODO: Fill in\n",
    "    num_classes = 2, # TODO: Fill in (bicycles and motorcycles)\n",
    "    num_training_samples = 1000 # TODO: fill in\n",
    ")"
   ]
  },
  {
   "cell_type": "markdown",
   "metadata": {},
   "source": [
    "The `image-classification` image uses four input channels with very specific input parameters. For convenience, we've provided them below:"
   ]
  },
  {
   "cell_type": "code",
   "execution_count": null,
   "metadata": {},
   "outputs": [],
   "source": [
    "## 7°)------- define model input chanels --->"
   ]
  },
  {
   "cell_type": "code",
   "execution_count": 18,
   "metadata": {},
   "outputs": [],
   "source": [
    "from sagemaker.debugger import Rule, rule_configs\n",
    "from sagemaker.session import TrainingInput\n",
    "model_inputs = {\n",
    "        \"train\": sagemaker.inputs.TrainingInput(\n",
    "            s3_data=f\"s3://{bucket}/train/\",\n",
    "            content_type=\"application/x-image\"\n",
    "        ),\n",
    "        \"validation\": sagemaker.inputs.TrainingInput(\n",
    "            s3_data=f\"s3://{bucket}/test/\",\n",
    "            content_type=\"application/x-image\"\n",
    "        ),\n",
    "        \"train_lst\": sagemaker.inputs.TrainingInput(\n",
    "            s3_data=f\"s3://{bucket}/train.lst\",\n",
    "            content_type=\"application/x-image\"\n",
    "        ),\n",
    "        \"validation_lst\": sagemaker.inputs.TrainingInput(\n",
    "            s3_data=f\"s3://{bucket}/test.lst\",\n",
    "            content_type=\"application/x-image\"\n",
    "        )\n",
    "}"
   ]
  },
  {
   "cell_type": "markdown",
   "metadata": {},
   "source": [
    "Great, now we can train the model using the model_inputs. In the cell below, call the `fit` method on our model,:"
   ]
  },
  {
   "cell_type": "code",
   "execution_count": null,
   "metadata": {},
   "outputs": [],
   "source": [
    "## 8°)------- train the model --->"
   ]
  },
  {
   "cell_type": "code",
   "execution_count": 19,
   "metadata": {},
   "outputs": [
    {
     "name": "stdout",
     "output_type": "stream",
     "text": [
      "2022-02-14 19:01:32 Starting - Starting the training job...\n",
      "2022-02-14 19:01:43 Starting - Launching requested ML instancesProfilerReport-1644865292: InProgress\n",
      ".........\n",
      "2022-02-14 19:03:20 Starting - Preparing the instances for training.........\n",
      "2022-02-14 19:05:02 Downloading - Downloading input data......\n",
      "2022-02-14 19:06:00 Training - Downloading the training image.\u001b[34mDocker entrypoint called with argument(s): train\u001b[0m\n",
      "\u001b[34m[02/14/2022 19:06:12 INFO 140160406992704] Reading default configuration from /opt/amazon/lib/python3.7/site-packages/image_classification/default-input.json: {'use_pretrained_model': 0, 'num_layers': 152, 'epochs': 30, 'learning_rate': 0.1, 'lr_scheduler_factor': 0.1, 'optimizer': 'sgd', 'momentum': 0, 'weight_decay': 0.0001, 'beta_1': 0.9, 'beta_2': 0.999, 'eps': 1e-08, 'gamma': 0.9, 'mini_batch_size': 32, 'image_shape': '3,224,224', 'precision_dtype': 'float32'}\u001b[0m\n",
      "\u001b[34m[02/14/2022 19:06:12 INFO 140160406992704] Merging with provided configuration from /opt/ml/input/config/hyperparameters.json: {'num_classes': '2', 'num_training_samples': '1000', 'image_shape': '3,32,32'}\u001b[0m\n",
      "\u001b[34m[02/14/2022 19:06:12 INFO 140160406992704] Final configuration: {'use_pretrained_model': 0, 'num_layers': 152, 'epochs': 30, 'learning_rate': 0.1, 'lr_scheduler_factor': 0.1, 'optimizer': 'sgd', 'momentum': 0, 'weight_decay': 0.0001, 'beta_1': 0.9, 'beta_2': 0.999, 'eps': 1e-08, 'gamma': 0.9, 'mini_batch_size': 32, 'image_shape': '3,32,32', 'precision_dtype': 'float32', 'num_classes': '2', 'num_training_samples': '1000'}\u001b[0m\n",
      "\u001b[34m[02/14/2022 19:06:12 INFO 140160406992704] Searching for .lst files in /opt/ml/input/data/train_lst.\u001b[0m\n",
      "\u001b[34m[02/14/2022 19:06:12 INFO 140160406992704] Creating record files for train.lst\u001b[0m\n",
      "\u001b[34m[02/14/2022 19:06:12 INFO 140160406992704] Done creating record files...\u001b[0m\n",
      "\u001b[34m[02/14/2022 19:06:12 INFO 140160406992704] Searching for .lst files in /opt/ml/input/data/validation_lst.\u001b[0m\n",
      "\u001b[34m[02/14/2022 19:06:12 INFO 140160406992704] Creating record files for test.lst\u001b[0m\n",
      "\u001b[34m[02/14/2022 19:06:12 INFO 140160406992704] Done creating record files...\u001b[0m\n",
      "\u001b[34m[02/14/2022 19:06:12 INFO 140160406992704] use_pretrained_model: 0\u001b[0m\n",
      "\u001b[34m[02/14/2022 19:06:12 INFO 140160406992704] multi_label: 0\u001b[0m\n",
      "\u001b[34m[02/14/2022 19:06:12 INFO 140160406992704] Performing random weight initialization\u001b[0m\n",
      "\u001b[34m[02/14/2022 19:06:12 INFO 140160406992704] ---- Parameters ----\u001b[0m\n",
      "\u001b[34m[02/14/2022 19:06:12 INFO 140160406992704] num_layers: 152\u001b[0m\n",
      "\u001b[34m[02/14/2022 19:06:12 INFO 140160406992704] data type: <class 'numpy.float32'>\u001b[0m\n",
      "\u001b[34m[02/14/2022 19:06:12 INFO 140160406992704] epochs: 30\u001b[0m\n",
      "\u001b[34m[02/14/2022 19:06:12 INFO 140160406992704] optimizer: sgd\u001b[0m\n",
      "\u001b[34m[02/14/2022 19:06:12 INFO 140160406992704] momentum: 0.9\u001b[0m\n",
      "\u001b[34m[02/14/2022 19:06:12 INFO 140160406992704] weight_decay: 0.0001\u001b[0m\n",
      "\u001b[34m[02/14/2022 19:06:12 INFO 140160406992704] learning_rate: 0.1\u001b[0m\n",
      "\u001b[34m[02/14/2022 19:06:12 INFO 140160406992704] num_training_samples: 1000\u001b[0m\n",
      "\u001b[34m[02/14/2022 19:06:12 INFO 140160406992704] mini_batch_size: 32\u001b[0m\n",
      "\u001b[34m[02/14/2022 19:06:12 INFO 140160406992704] image_shape: 3,32,32\u001b[0m\n",
      "\u001b[34m[02/14/2022 19:06:12 INFO 140160406992704] num_classes: 2\u001b[0m\n",
      "\u001b[34m[02/14/2022 19:06:12 INFO 140160406992704] augmentation_type: None\u001b[0m\n",
      "\u001b[34m[02/14/2022 19:06:12 INFO 140160406992704] kv_store: device\u001b[0m\n",
      "\u001b[34m[02/14/2022 19:06:12 INFO 140160406992704] checkpoint_frequency not set, will store the best model\u001b[0m\n",
      "\u001b[34m[02/14/2022 19:06:12 INFO 140160406992704] --------------------\u001b[0m\n",
      "\u001b[34m[02/14/2022 19:06:12 INFO 140160406992704] Setting number of threads: 3\u001b[0m\n",
      "\n",
      "2022-02-14 19:06:21 Training - Training image download completed. Training in progress.\u001b[34m[19:06:19] /opt/brazil-pkg-cache/packages/AIAlgorithmsMXNet/AIAlgorithmsMXNet-1.3.x_ecl_Cuda_10.1.x.10365.0/AL2_x86_64/generic-flavor/src/src/operator/nn/./cudnn/./cudnn_algoreg-inl.h:97: Running performance tests to find the best convolution algorithm, this can take a while... (setting env variable MXNET_CUDNN_AUTOTUNE_DEFAULT to 0 to disable)\u001b[0m\n",
      "\u001b[34m[02/14/2022 19:06:38 INFO 140160406992704] Epoch[0] Batch [20]#011Speed: 34.314 samples/sec#011accuracy=0.513393\u001b[0m\n",
      "\u001b[34m[02/14/2022 19:06:43 INFO 140160406992704] Epoch[0] Train-accuracy=0.582661\u001b[0m\n",
      "\u001b[34m[02/14/2022 19:06:43 INFO 140160406992704] Epoch[0] Time cost=24.164\u001b[0m\n",
      "\u001b[34m[02/14/2022 19:06:45 INFO 140160406992704] Epoch[0] Validation-accuracy=0.531250\u001b[0m\n",
      "\u001b[34m[02/14/2022 19:06:45 INFO 140160406992704] Storing the best model with validation accuracy: 0.531250\u001b[0m\n",
      "\u001b[34m[02/14/2022 19:06:46 INFO 140160406992704] Saved checkpoint to \"/opt/ml/model/image-classification-0001.params\"\u001b[0m\n",
      "\u001b[34m[02/14/2022 19:06:57 INFO 140160406992704] Epoch[1] Batch [20]#011Speed: 56.943 samples/sec#011accuracy=0.724702\u001b[0m\n",
      "\u001b[34m[02/14/2022 19:07:02 INFO 140160406992704] Epoch[1] Train-accuracy=0.728831\u001b[0m\n",
      "\u001b[34m[02/14/2022 19:07:02 INFO 140160406992704] Epoch[1] Time cost=16.806\u001b[0m\n",
      "\u001b[34m[02/14/2022 19:07:04 INFO 140160406992704] Epoch[1] Validation-accuracy=0.593750\u001b[0m\n",
      "\u001b[34m[02/14/2022 19:07:04 INFO 140160406992704] Storing the best model with validation accuracy: 0.593750\u001b[0m\n",
      "\u001b[34m[02/14/2022 19:07:05 INFO 140160406992704] Saved checkpoint to \"/opt/ml/model/image-classification-0002.params\"\u001b[0m\n",
      "\u001b[34m[02/14/2022 19:07:16 INFO 140160406992704] Epoch[2] Batch [20]#011Speed: 56.505 samples/sec#011accuracy=0.729167\u001b[0m\n",
      "\u001b[34m[02/14/2022 19:07:22 INFO 140160406992704] Epoch[2] Train-accuracy=0.729839\u001b[0m\n",
      "\u001b[34m[02/14/2022 19:07:22 INFO 140160406992704] Epoch[2] Time cost=16.859\u001b[0m\n",
      "\u001b[34m[02/14/2022 19:07:23 INFO 140160406992704] Epoch[2] Validation-accuracy=0.760417\u001b[0m\n",
      "\u001b[34m[02/14/2022 19:07:23 INFO 140160406992704] Storing the best model with validation accuracy: 0.760417\u001b[0m\n",
      "\u001b[34m[02/14/2022 19:07:24 INFO 140160406992704] Saved checkpoint to \"/opt/ml/model/image-classification-0003.params\"\u001b[0m\n",
      "\u001b[34m[02/14/2022 19:07:35 INFO 140160406992704] Epoch[3] Batch [20]#011Speed: 56.816 samples/sec#011accuracy=0.761905\u001b[0m\n",
      "\u001b[34m[02/14/2022 19:07:41 INFO 140160406992704] Epoch[3] Train-accuracy=0.784274\u001b[0m\n",
      "\u001b[34m[02/14/2022 19:07:41 INFO 140160406992704] Epoch[3] Time cost=16.818\u001b[0m\n",
      "\u001b[34m[02/14/2022 19:07:42 INFO 140160406992704] Epoch[3] Validation-accuracy=0.758929\u001b[0m\n",
      "\u001b[34m[02/14/2022 19:07:54 INFO 140160406992704] Epoch[4] Batch [20]#011Speed: 56.145 samples/sec#011accuracy=0.788690\u001b[0m\n",
      "\u001b[34m[02/14/2022 19:08:00 INFO 140160406992704] Epoch[4] Train-accuracy=0.789315\u001b[0m\n",
      "\u001b[34m[02/14/2022 19:08:00 INFO 140160406992704] Epoch[4] Time cost=17.042\u001b[0m\n",
      "\u001b[34m[02/14/2022 19:08:01 INFO 140160406992704] Epoch[4] Validation-accuracy=0.812500\u001b[0m\n",
      "\u001b[34m[02/14/2022 19:08:02 INFO 140160406992704] Storing the best model with validation accuracy: 0.812500\u001b[0m\n",
      "\u001b[34m[02/14/2022 19:08:02 INFO 140160406992704] Saved checkpoint to \"/opt/ml/model/image-classification-0005.params\"\u001b[0m\n",
      "\u001b[34m[02/14/2022 19:08:14 INFO 140160406992704] Epoch[5] Batch [20]#011Speed: 56.330 samples/sec#011accuracy=0.809524\u001b[0m\n",
      "\u001b[34m[02/14/2022 19:08:19 INFO 140160406992704] Epoch[5] Train-accuracy=0.805444\u001b[0m\n",
      "\u001b[34m[02/14/2022 19:08:19 INFO 140160406992704] Epoch[5] Time cost=16.896\u001b[0m\n",
      "\u001b[34m[02/14/2022 19:08:21 INFO 140160406992704] Epoch[5] Validation-accuracy=0.739583\u001b[0m\n",
      "\u001b[34m[02/14/2022 19:08:33 INFO 140160406992704] Epoch[6] Batch [20]#011Speed: 56.626 samples/sec#011accuracy=0.825893\u001b[0m\n",
      "\u001b[34m[02/14/2022 19:08:38 INFO 140160406992704] Epoch[6] Train-accuracy=0.824597\u001b[0m\n",
      "\u001b[34m[02/14/2022 19:08:38 INFO 140160406992704] Epoch[6] Time cost=16.978\u001b[0m\n",
      "\u001b[34m[02/14/2022 19:08:40 INFO 140160406992704] Epoch[6] Validation-accuracy=0.796875\u001b[0m\n",
      "\u001b[34m[02/14/2022 19:08:52 INFO 140160406992704] Epoch[7] Batch [20]#011Speed: 56.730 samples/sec#011accuracy=0.813988\u001b[0m\n",
      "\u001b[34m[02/14/2022 19:08:57 INFO 140160406992704] Epoch[7] Train-accuracy=0.812500\u001b[0m\n",
      "\u001b[34m[02/14/2022 19:08:57 INFO 140160406992704] Epoch[7] Time cost=16.845\u001b[0m\n",
      "\u001b[34m[02/14/2022 19:08:59 INFO 140160406992704] Epoch[7] Validation-accuracy=0.750000\u001b[0m\n",
      "\u001b[34m[02/14/2022 19:09:11 INFO 140160406992704] Epoch[8] Batch [20]#011Speed: 55.435 samples/sec#011accuracy=0.842262\u001b[0m\n",
      "\u001b[34m[02/14/2022 19:09:17 INFO 140160406992704] Epoch[8] Train-accuracy=0.841734\u001b[0m\n",
      "\u001b[34m[02/14/2022 19:09:17 INFO 140160406992704] Epoch[8] Time cost=17.106\u001b[0m\n",
      "\u001b[34m[02/14/2022 19:09:18 INFO 140160406992704] Epoch[8] Validation-accuracy=0.781250\u001b[0m\n",
      "\u001b[34m[02/14/2022 19:09:30 INFO 140160406992704] Epoch[9] Batch [20]#011Speed: 56.255 samples/sec#011accuracy=0.812500\u001b[0m\n",
      "\u001b[34m[02/14/2022 19:09:35 INFO 140160406992704] Epoch[9] Train-accuracy=0.818548\u001b[0m\n",
      "\u001b[34m[02/14/2022 19:09:35 INFO 140160406992704] Epoch[9] Time cost=16.955\u001b[0m\n",
      "\u001b[34m[02/14/2022 19:09:37 INFO 140160406992704] Epoch[9] Validation-accuracy=0.838542\u001b[0m\n",
      "\u001b[34m[02/14/2022 19:09:37 INFO 140160406992704] Storing the best model with validation accuracy: 0.838542\u001b[0m\n",
      "\u001b[34m[02/14/2022 19:09:38 INFO 140160406992704] Saved checkpoint to \"/opt/ml/model/image-classification-0010.params\"\u001b[0m\n",
      "\u001b[34m[02/14/2022 19:09:49 INFO 140160406992704] Epoch[10] Batch [20]#011Speed: 56.655 samples/sec#011accuracy=0.848214\u001b[0m\n",
      "\u001b[34m[02/14/2022 19:09:55 INFO 140160406992704] Epoch[10] Train-accuracy=0.845766\u001b[0m\n",
      "\u001b[34m[02/14/2022 19:09:55 INFO 140160406992704] Epoch[10] Time cost=16.842\u001b[0m\n",
      "\u001b[34m[02/14/2022 19:09:56 INFO 140160406992704] Epoch[10] Validation-accuracy=0.760417\u001b[0m\n",
      "\u001b[34m[02/14/2022 19:10:08 INFO 140160406992704] Epoch[11] Batch [20]#011Speed: 56.051 samples/sec#011accuracy=0.845238\u001b[0m\n",
      "\u001b[34m[02/14/2022 19:10:14 INFO 140160406992704] Epoch[11] Train-accuracy=0.851815\u001b[0m\n",
      "\u001b[34m[02/14/2022 19:10:14 INFO 140160406992704] Epoch[11] Time cost=17.080\u001b[0m\n",
      "\u001b[34m[02/14/2022 19:10:15 INFO 140160406992704] Epoch[11] Validation-accuracy=0.830357\u001b[0m\n",
      "\u001b[34m[02/14/2022 19:10:27 INFO 140160406992704] Epoch[12] Batch [20]#011Speed: 56.560 samples/sec#011accuracy=0.882440\u001b[0m\n",
      "\u001b[34m[02/14/2022 19:10:33 INFO 140160406992704] Epoch[12] Train-accuracy=0.887097\u001b[0m\n",
      "\u001b[34m[02/14/2022 19:10:33 INFO 140160406992704] Epoch[12] Time cost=16.856\u001b[0m\n",
      "\u001b[34m[02/14/2022 19:10:34 INFO 140160406992704] Epoch[12] Validation-accuracy=0.807292\u001b[0m\n",
      "\u001b[34m[02/14/2022 19:10:46 INFO 140160406992704] Epoch[13] Batch [20]#011Speed: 56.775 samples/sec#011accuracy=0.863095\u001b[0m\n",
      "\u001b[34m[02/14/2022 19:10:51 INFO 140160406992704] Epoch[13] Train-accuracy=0.866935\u001b[0m\n",
      "\u001b[34m[02/14/2022 19:10:51 INFO 140160406992704] Epoch[13] Time cost=16.815\u001b[0m\n",
      "\u001b[34m[02/14/2022 19:10:53 INFO 140160406992704] Epoch[13] Validation-accuracy=0.817708\u001b[0m\n",
      "\u001b[34m[02/14/2022 19:11:05 INFO 140160406992704] Epoch[14] Batch [20]#011Speed: 56.330 samples/sec#011accuracy=0.898810\u001b[0m\n",
      "\u001b[34m[02/14/2022 19:11:10 INFO 140160406992704] Epoch[14] Train-accuracy=0.897177\u001b[0m\n",
      "\u001b[34m[02/14/2022 19:11:10 INFO 140160406992704] Epoch[14] Time cost=16.932\u001b[0m\n",
      "\u001b[34m[02/14/2022 19:11:12 INFO 140160406992704] Epoch[14] Validation-accuracy=0.828125\u001b[0m\n",
      "\u001b[34m[02/14/2022 19:11:24 INFO 140160406992704] Epoch[15] Batch [20]#011Speed: 56.562 samples/sec#011accuracy=0.906250\u001b[0m\n",
      "\u001b[34m[02/14/2022 19:11:29 INFO 140160406992704] Epoch[15] Train-accuracy=0.890121\u001b[0m\n",
      "\u001b[34m[02/14/2022 19:11:29 INFO 140160406992704] Epoch[15] Time cost=16.868\u001b[0m\n",
      "\u001b[34m[02/14/2022 19:11:31 INFO 140160406992704] Epoch[15] Validation-accuracy=0.799107\u001b[0m\n",
      "\u001b[34m[02/14/2022 19:11:43 INFO 140160406992704] Epoch[16] Batch [20]#011Speed: 56.386 samples/sec#011accuracy=0.922619\u001b[0m\n",
      "\u001b[34m[02/14/2022 19:11:48 INFO 140160406992704] Epoch[16] Train-accuracy=0.908266\u001b[0m\n",
      "\u001b[34m[02/14/2022 19:11:48 INFO 140160406992704] Epoch[16] Time cost=16.931\u001b[0m\n",
      "\u001b[34m[02/14/2022 19:11:50 INFO 140160406992704] Epoch[16] Validation-accuracy=0.828125\u001b[0m\n",
      "\u001b[34m[02/14/2022 19:12:02 INFO 140160406992704] Epoch[17] Batch [20]#011Speed: 56.291 samples/sec#011accuracy=0.934524\u001b[0m\n",
      "\u001b[34m[02/14/2022 19:12:07 INFO 140160406992704] Epoch[17] Train-accuracy=0.928427\u001b[0m\n",
      "\u001b[34m[02/14/2022 19:12:07 INFO 140160406992704] Epoch[17] Time cost=17.004\u001b[0m\n",
      "\u001b[34m[02/14/2022 19:12:09 INFO 140160406992704] Epoch[17] Validation-accuracy=0.843750\u001b[0m\n",
      "\u001b[34m[02/14/2022 19:12:09 INFO 140160406992704] Storing the best model with validation accuracy: 0.843750\u001b[0m\n",
      "\u001b[34m[02/14/2022 19:12:10 INFO 140160406992704] Saved checkpoint to \"/opt/ml/model/image-classification-0018.params\"\u001b[0m\n",
      "\u001b[34m[02/14/2022 19:12:21 INFO 140160406992704] Epoch[18] Batch [20]#011Speed: 56.844 samples/sec#011accuracy=0.898810\u001b[0m\n",
      "\u001b[34m[02/14/2022 19:12:26 INFO 140160406992704] Epoch[18] Train-accuracy=0.914315\u001b[0m\n",
      "\u001b[34m[02/14/2022 19:12:26 INFO 140160406992704] Epoch[18] Time cost=16.831\u001b[0m\n",
      "\u001b[34m[02/14/2022 19:12:28 INFO 140160406992704] Epoch[18] Validation-accuracy=0.854167\u001b[0m\n",
      "\u001b[34m[02/14/2022 19:12:28 INFO 140160406992704] Storing the best model with validation accuracy: 0.854167\u001b[0m\n",
      "\u001b[34m[02/14/2022 19:12:29 INFO 140160406992704] Saved checkpoint to \"/opt/ml/model/image-classification-0019.params\"\u001b[0m\n",
      "\u001b[34m[02/14/2022 19:12:40 INFO 140160406992704] Epoch[19] Batch [20]#011Speed: 56.705 samples/sec#011accuracy=0.947917\u001b[0m\n",
      "\u001b[34m[02/14/2022 19:12:45 INFO 140160406992704] Epoch[19] Train-accuracy=0.931452\u001b[0m\n",
      "\u001b[34m[02/14/2022 19:12:45 INFO 140160406992704] Epoch[19] Time cost=16.840\u001b[0m\n",
      "\u001b[34m[02/14/2022 19:12:47 INFO 140160406992704] Epoch[19] Validation-accuracy=0.825893\u001b[0m\n",
      "\u001b[34m[02/14/2022 19:12:59 INFO 140160406992704] Epoch[20] Batch [20]#011Speed: 56.504 samples/sec#011accuracy=0.950893\u001b[0m\n",
      "\u001b[34m[02/14/2022 19:13:05 INFO 140160406992704] Epoch[20] Train-accuracy=0.954637\u001b[0m\n",
      "\u001b[34m[02/14/2022 19:13:05 INFO 140160406992704] Epoch[20] Time cost=16.946\u001b[0m\n",
      "\u001b[34m[02/14/2022 19:13:06 INFO 140160406992704] Epoch[20] Validation-accuracy=0.864583\u001b[0m\n",
      "\u001b[34m[02/14/2022 19:13:06 INFO 140160406992704] Storing the best model with validation accuracy: 0.864583\u001b[0m\n",
      "\u001b[34m[02/14/2022 19:13:07 INFO 140160406992704] Saved checkpoint to \"/opt/ml/model/image-classification-0021.params\"\u001b[0m\n",
      "\u001b[34m[02/14/2022 19:13:18 INFO 140160406992704] Epoch[21] Batch [20]#011Speed: 56.193 samples/sec#011accuracy=0.962798\u001b[0m\n",
      "\u001b[34m[02/14/2022 19:13:24 INFO 140160406992704] Epoch[21] Train-accuracy=0.947581\u001b[0m\n",
      "\u001b[34m[02/14/2022 19:13:24 INFO 140160406992704] Epoch[21] Time cost=16.956\u001b[0m\n",
      "\u001b[34m[02/14/2022 19:13:25 INFO 140160406992704] Epoch[21] Validation-accuracy=0.791667\u001b[0m\n",
      "\u001b[34m[02/14/2022 19:13:37 INFO 140160406992704] Epoch[22] Batch [20]#011Speed: 56.389 samples/sec#011accuracy=0.959821\u001b[0m\n",
      "\u001b[34m[02/14/2022 19:13:43 INFO 140160406992704] Epoch[22] Train-accuracy=0.951613\u001b[0m\n",
      "\u001b[34m[02/14/2022 19:13:43 INFO 140160406992704] Epoch[22] Time cost=16.929\u001b[0m\n",
      "\u001b[34m[02/14/2022 19:13:44 INFO 140160406992704] Epoch[22] Validation-accuracy=0.875000\u001b[0m\n",
      "\u001b[34m[02/14/2022 19:13:45 INFO 140160406992704] Storing the best model with validation accuracy: 0.875000\u001b[0m\n",
      "\u001b[34m[02/14/2022 19:13:45 INFO 140160406992704] Saved checkpoint to \"/opt/ml/model/image-classification-0023.params\"\u001b[0m\n",
      "\u001b[34m[02/14/2022 19:13:56 INFO 140160406992704] Epoch[23] Batch [20]#011Speed: 56.612 samples/sec#011accuracy=0.962798\u001b[0m\n",
      "\u001b[34m[02/14/2022 19:14:02 INFO 140160406992704] Epoch[23] Train-accuracy=0.960685\u001b[0m\n",
      "\u001b[34m[02/14/2022 19:14:02 INFO 140160406992704] Epoch[23] Time cost=16.887\u001b[0m\n",
      "\u001b[34m[02/14/2022 19:14:04 INFO 140160406992704] Epoch[23] Validation-accuracy=0.843750\u001b[0m\n",
      "\u001b[34m[02/14/2022 19:14:16 INFO 140160406992704] Epoch[24] Batch [20]#011Speed: 55.973 samples/sec#011accuracy=0.976190\u001b[0m\n",
      "\u001b[34m[02/14/2022 19:14:21 INFO 140160406992704] Epoch[24] Train-accuracy=0.973790\u001b[0m\n",
      "\u001b[34m[02/14/2022 19:14:21 INFO 140160406992704] Epoch[24] Time cost=17.084\u001b[0m\n",
      "\u001b[34m[02/14/2022 19:14:23 INFO 140160406992704] Epoch[24] Validation-accuracy=0.848958\u001b[0m\n",
      "\u001b[34m[02/14/2022 19:14:34 INFO 140160406992704] Epoch[25] Batch [20]#011Speed: 56.551 samples/sec#011accuracy=0.915179\u001b[0m\n",
      "\u001b[34m[02/14/2022 19:14:40 INFO 140160406992704] Epoch[25] Train-accuracy=0.919355\u001b[0m\n",
      "\u001b[34m[02/14/2022 19:14:40 INFO 140160406992704] Epoch[25] Time cost=16.886\u001b[0m\n",
      "\u001b[34m[02/14/2022 19:14:41 INFO 140160406992704] Epoch[25] Validation-accuracy=0.791667\u001b[0m\n",
      "\u001b[34m[02/14/2022 19:14:53 INFO 140160406992704] Epoch[26] Batch [20]#011Speed: 56.546 samples/sec#011accuracy=0.913690\u001b[0m\n",
      "\u001b[34m[02/14/2022 19:14:59 INFO 140160406992704] Epoch[26] Train-accuracy=0.929435\u001b[0m\n",
      "\u001b[34m[02/14/2022 19:14:59 INFO 140160406992704] Epoch[26] Time cost=16.902\u001b[0m\n",
      "\u001b[34m[02/14/2022 19:15:00 INFO 140160406992704] Epoch[26] Validation-accuracy=0.802083\u001b[0m\n",
      "\u001b[34m[02/14/2022 19:15:13 INFO 140160406992704] Epoch[27] Batch [20]#011Speed: 56.200 samples/sec#011accuracy=0.980655\u001b[0m\n",
      "\u001b[34m[02/14/2022 19:15:18 INFO 140160406992704] Epoch[27] Train-accuracy=0.981855\u001b[0m\n",
      "\u001b[34m[02/14/2022 19:15:18 INFO 140160406992704] Epoch[27] Time cost=16.937\u001b[0m\n",
      "\u001b[34m[02/14/2022 19:15:20 INFO 140160406992704] Epoch[27] Validation-accuracy=0.808036\u001b[0m\n",
      "\u001b[34m[02/14/2022 19:15:32 INFO 140160406992704] Epoch[28] Batch [20]#011Speed: 56.559 samples/sec#011accuracy=0.991071\u001b[0m\n",
      "\u001b[34m[02/14/2022 19:15:37 INFO 140160406992704] Epoch[28] Train-accuracy=0.987903\u001b[0m\n",
      "\u001b[34m[02/14/2022 19:15:37 INFO 140160406992704] Epoch[28] Time cost=16.878\u001b[0m\n",
      "\u001b[34m[02/14/2022 19:15:39 INFO 140160406992704] Epoch[28] Validation-accuracy=0.833333\u001b[0m\n",
      "\u001b[34m[02/14/2022 19:15:51 INFO 140160406992704] Epoch[29] Batch [20]#011Speed: 56.225 samples/sec#011accuracy=0.983631\u001b[0m\n",
      "\u001b[34m[02/14/2022 19:15:56 INFO 140160406992704] Epoch[29] Train-accuracy=0.979839\u001b[0m\n",
      "\u001b[34m[02/14/2022 19:15:56 INFO 140160406992704] Epoch[29] Time cost=16.939\u001b[0m\n",
      "\u001b[34m[02/14/2022 19:15:58 INFO 140160406992704] Epoch[29] Validation-accuracy=0.817708\u001b[0m\n",
      "\n",
      "2022-02-14 19:16:23 Uploading - Uploading generated training model\n",
      "2022-02-14 19:16:50 Completed - Training job completed\n",
      "Training seconds: 708\n",
      "Billable seconds: 708\n"
     ]
    }
   ],
   "source": [
    "## TODO: train your model\n",
    "img_classifier_model.fit(model_inputs)"
   ]
  },
  {
   "cell_type": "markdown",
   "metadata": {},
   "source": [
    "If all goes well, you'll end up with a model topping out above `.8` validation accuracy. With only 1000 training samples in the CIFAR dataset, that's pretty good. We could definitely pursue data augmentation & gathering more samples to help us improve further, but for now let's proceed to deploy our model.\n",
    "\n",
    "### Getting ready to deploy\n",
    "\n",
    "To begin with, let's configure Model Monitor to track our deployment. We'll define a `DataCaptureConfig` below:"
   ]
  },
  {
   "cell_type": "code",
   "execution_count": null,
   "metadata": {},
   "outputs": [],
   "source": [
    "## 9°)------- define data_capture_config for Model Monitor --->"
   ]
  },
  {
   "cell_type": "code",
   "execution_count": 20,
   "metadata": {},
   "outputs": [],
   "source": [
    "from sagemaker.model_monitor import DataCaptureConfig\n",
    "\n",
    "data_capture_config = DataCaptureConfig(\n",
    "    ## TODO: Set config options\n",
    "    enable_capture = True,\n",
    "    sampling_percentage = 100,\n",
    "    destination_s3_uri=f\"s3://{bucket}/p2_data_capture\"\n",
    ")"
   ]
  },
  {
   "cell_type": "markdown",
   "metadata": {},
   "source": [
    "Note the `destination_s3_uri` parameter: At the end of the project, we can explore the `data_capture` directory in S3 to find crucial data about the inputs and outputs Model Monitor has observed on our model endpoint over time.\n",
    "\n",
    "With that done, deploy your model on a single `ml.m5.xlarge` instance with the data capture config attached:"
   ]
  },
  {
   "cell_type": "code",
   "execution_count": null,
   "metadata": {},
   "outputs": [],
   "source": [
    "## 10°)------- deploy to endpoint --->"
   ]
  },
  {
   "cell_type": "code",
   "execution_count": null,
   "metadata": {},
   "outputs": [],
   "source": [
    "deployment = img_classifier_model.deploy(\n",
    "    ## TODO: fill in deployment options\n",
    "    initial_instance_count = 1,\n",
    "    instance_type ='ml.m5.xlarge',\n",
    "    data_capture_config = data_capture_config\n",
    "    )\n",
    "\n",
    "endpoint = deployment.endpoint_name"
   ]
  },
  {
   "cell_type": "code",
   "execution_count": 24,
   "metadata": {},
   "outputs": [
    {
     "name": "stdout",
     "output_type": "stream",
     "text": [
      "image-classification-2022-02-14-19-20-14-783\n"
     ]
    }
   ],
   "source": [
    "print(endpoint)"
   ]
  },
  {
   "cell_type": "markdown",
   "metadata": {},
   "source": [
    "Note the endpoint name for later as well.\n",
    "\n",
    "Next, instantiate a Predictor:"
   ]
  },
  {
   "cell_type": "code",
   "execution_count": 50,
   "metadata": {},
   "outputs": [],
   "source": [
    "from sagemaker.predictor import Predictor\n",
    "\n",
    "predictor = Predictor(endpoint_name=endpoint, sagemaker_session=sagemaker.Session()) ## TODO: fill in"
   ]
  },
  {
   "cell_type": "markdown",
   "metadata": {},
   "source": [
    "In the code snippet below we are going to prepare one of your saved images for prediction. Use the predictor to process the `payload`."
   ]
  },
  {
   "cell_type": "code",
   "execution_count": 51,
   "metadata": {},
   "outputs": [],
   "source": [
    "from sagemaker.serializers import IdentitySerializer\n",
    "import base64\n",
    "\n",
    "predictor.serializer = IdentitySerializer(\"image/png\")\n",
    "\n",
    "with open(\"./test/bicycle_s_001789.png\", \"rb\") as f:\n",
    "    payload = f.read()\n",
    "\n",
    "    \n",
    "inference = predictor.predict(data=payload)## TODO: Process the payload with your predictor"
   ]
  },
  {
   "cell_type": "markdown",
   "metadata": {},
   "source": [
    "Your `inference` object is an array of two values, the predicted probability value for each of your classes (bicycle and motorcycle respectively.) So, for example, a value of `b'[0.91, 0.09]'` indicates the probability of being a bike is 91% and being a motorcycle is 9%."
   ]
  },
  {
   "cell_type": "code",
   "execution_count": 52,
   "metadata": {},
   "outputs": [
    {
     "name": "stdout",
     "output_type": "stream",
     "text": [
      "b'[0.954087495803833, 0.04591254144906998]'\n"
     ]
    }
   ],
   "source": [
    "print(inference)"
   ]
  },
  {
   "cell_type": "markdown",
   "metadata": {},
   "source": [
    "### Draft Lambdas and Step Function Workflow\n",
    "\n",
    "Your operations team uses Step Functions to orchestrate serverless workflows. One of the nice things about Step Functions is that [workflows can call other workflows](https://docs.aws.amazon.com/step-functions/latest/dg/connect-stepfunctions.html), so the team can easily plug your workflow into the broader production architecture for Scones Unlimited.\n",
    "\n",
    "In this next stage you're going to write and deploy three Lambda functions, and then use the Step Functions visual editor to chain them together! Our functions are going to work with a simple data object:\n",
    "\n",
    "```python\n",
    "{\n",
    "    \"inferences\": [], # Output of predictor.predict\n",
    "    \"s3_key\": \"\", # Source data S3 key\n",
    "    \"s3_bucket\": \"\", # Source data S3 bucket\n",
    "    \"image_data\": \"\"  # base64 encoded string containing the image data\n",
    "}\n",
    "```\n",
    "\n",
    "A good test object that you can use for Lambda tests and Step Function executions, throughout the next section, might look like this:\n",
    "\n",
    "```python\n",
    "{\n",
    "  \"image_data\": \"\",\n",
    "  \"s3_bucket\": MY_BUCKET_NAME, # Fill in with your bucket\n",
    "  \"s3_key\": \"test/bicycle_s_000513.png\"\n",
    "}\n",
    "```\n",
    "\n",
    "Using these fields, your functions can read and write the necessary data to execute your workflow. Let's start with the first function. Your first Lambda function will copy an object from S3, base64 encode it, and then return it to the step function as `image_data` in an event.\n",
    "\n",
    "Go to the Lambda dashboard and create a new Lambda function with a descriptive name like \"serializeImageData\" and select thr 'Python 3.8' runtime. Add the same permissions as the SageMaker role you created earlier. (Reminder: you do this in the Configuration tab under \"Permissions\"). Once you're ready, use the starter code below to craft your Lambda handler:\n",
    "\n",
    "```python\n",
    "import json\n",
    "import boto3\n",
    "import base64\n",
    "\n",
    "s3 = boto3.client('s3')\n",
    "\n",
    "def lambda_handler(event, context):\n",
    "    \"\"\"A function to serialize target data from S3\"\"\"\n",
    "    \n",
    "    # Get the s3 address from the Step Function event input\n",
    "    key = ## TODO: fill in\n",
    "    bucket = ## TODO: fill in\n",
    "    \n",
    "    # Download the data from s3 to /tmp/image.png\n",
    "    ## TODO: fill in\n",
    "    \n",
    "    # We read the data from a file\n",
    "    with open(\"/tmp/image.png\", \"rb\") as f:\n",
    "        image_data = base64.b64encode(f.read())\n",
    "\n",
    "    # Pass the data back to the Step Function\n",
    "    print(\"Event:\", event.keys())\n",
    "    return {\n",
    "        'statusCode': 200,\n",
    "        'body': {\n",
    "            \"image_data\": image_data,\n",
    "            \"s3_bucket\": bucket,\n",
    "            \"s3_key\": key,\n",
    "            \"inferences\": []\n",
    "        }\n",
    "    }\n",
    "```\n",
    "\n",
    "The next function is responsible for the classification part - we're going to take the image output from the previous function, decode it, and then pass inferences back to the the Step Function.\n",
    "\n",
    "Because this Lambda will have runtime dependencies (i.e. the SageMaker SDK) you'll need to package them in your function. *Key reading:* https://docs.aws.amazon.com/lambda/latest/dg/python-package-create.html#python-package-create-with-dependency\n",
    "\n",
    "Create a new Lambda function with the same rights and a descriptive name, then fill in the starter code below for your classifier Lambda.\n",
    "\n",
    "```python\n",
    "import json\n",
    "import sagemaker\n",
    "import base64\n",
    "from sagemaker.serializers import IdentitySerializer\n",
    "\n",
    "# Fill this in with the name of your deployed model\n",
    "ENDPOINT = ## TODO: fill in\n",
    "\n",
    "def lambda_handler(event, context):\n",
    "\n",
    "    # Decode the image data\n",
    "    image = base64.b64decode(## TODO: fill in)\n",
    "\n",
    "    # Instantiate a Predictor\n",
    "    predictor = ## TODO: fill in\n",
    "\n",
    "    # For this model the IdentitySerializer needs to be \"image/png\"\n",
    "    predictor.serializer = IdentitySerializer(\"image/png\")\n",
    "    \n",
    "    # Make a prediction:\n",
    "    inferences = ## TODO: fill in\n",
    "    \n",
    "    # We return the data back to the Step Function    \n",
    "    event[\"inferences\"] = inferences.decode('utf-8')\n",
    "    return {\n",
    "        'statusCode': 200,\n",
    "        'body': json.dumps(event)\n",
    "    }\n",
    "```\n",
    "\n",
    "Finally, we need to filter low-confidence inferences. Define a threshold between 1.00 and 0.000 for your model: what is reasonble for you? If the model predicts at `.70` for it's highest confidence label, do we want to pass that inference along to downstream systems? Make one last Lambda function and tee up the same permissions:\n",
    "\n",
    "```python\n",
    "import json\n",
    "\n",
    "\n",
    "THRESHOLD = .93\n",
    "\n",
    "\n",
    "def lambda_handler(event, context):\n",
    "    \n",
    "    # Grab the inferences from the event\n",
    "    inferences = ## TODO: fill in\n",
    "    \n",
    "    # Check if any values in our inferences are above THRESHOLD\n",
    "    meets_threshold = ## TODO: fill in\n",
    "    \n",
    "    # If our threshold is met, pass our data back out of the\n",
    "    # Step Function, else, end the Step Function with an error\n",
    "    if meets_threshold:\n",
    "        pass\n",
    "    else:\n",
    "        raise(\"THRESHOLD_CONFIDENCE_NOT_MET\")\n",
    "\n",
    "    return {\n",
    "        'statusCode': 200,\n",
    "        'body': json.dumps(event)\n",
    "    }\n",
    "```\n",
    "Once you have tested the lambda functions, save the code for each lambda function in a python script called 'lambda.py'.\n",
    "\n",
    "With your lambdas in place, you can use the Step Functions visual editor to construct a workflow that chains them together. In the Step Functions console you'll have the option to author a Standard step function *Visually*.\n",
    "\n",
    "When the visual editor opens, you'll have many options to add transitions in your workflow. We're going to keep it simple and have just one: to invoke Lambda functions. Add three of them chained together. For each one, you'll be able to select the Lambda functions you just created in the proper order, filter inputs and outputs, and give them descriptive names.\n",
    "\n",
    "Make sure that you:\n",
    "\n",
    "1. Are properly filtering the inputs and outputs of your invokations (e.g. `$.body`)\n",
    "2. Take care to remove the error handling from the last function - it's supposed to \"fail loudly\" for your operations colleagues!\n",
    "\n",
    "Take a screenshot of your working step function in action and export the step function as JSON for your submission package."
   ]
  },
  {
   "cell_type": "markdown",
   "metadata": {},
   "source": [
    "\n",
    "Great! Now you can use the files in `./test` as test files for our workflow. Depending on our threshold, our workflow should reliably pass predictions about images from `./test` on to downstream systems, while erroring out for inferences below our confidence threshold!\n",
    "\n",
    "### Testing and Evaluation\n",
    "\n",
    "Do several step function invokations using data from the `./test` folder. This process should give you confidence that the workflow both *succeeds* AND *fails* as expected. In addition, SageMaker Model Monitor will generate recordings of your data and inferences which we can visualize.\n",
    "\n",
    "Here's a function that can help you generate test inputs for your invokations:"
   ]
  },
  {
   "cell_type": "code",
   "execution_count": 108,
   "metadata": {},
   "outputs": [
    {
     "data": {
      "text/plain": [
       "'{\"image_data\": \"\", \"s3_bucket\": \"sagemaker-us-east-1-513508352252\", \"s3_key\": \"test/safety_bike_s_000699.png\"}'"
      ]
     },
     "execution_count": 108,
     "metadata": {},
     "output_type": "execute_result"
    }
   ],
   "source": [
    "import random\n",
    "import boto3\n",
    "import json\n",
    "\n",
    "\n",
    "def generate_test_case():\n",
    "    # Setup s3 in boto3\n",
    "    s3 = boto3.resource('s3')\n",
    "    \n",
    "    # Randomly pick from sfn or test folders in our bucket\n",
    "    bckt = s3.Bucket(bucket)\n",
    "    objects = bckt.objects.filter(Prefix=\"test\")\n",
    "    \n",
    "    # Grab any random object key from that folder!\n",
    "    obj = random.choice([x.key for x in objects])\n",
    "    \n",
    "    return json.dumps({\n",
    "        \"image_data\": \"\",\n",
    "        \"s3_bucket\": bucket,\n",
    "        \"s3_key\": obj\n",
    "    })\n",
    "generate_test_case()"
   ]
  },
  {
   "cell_type": "markdown",
   "metadata": {},
   "source": [
    "In the Step Function dashboard for your new function, you can create new executions and copy in the generated test cases. Do several executions so that you can generate data you can evaluate and visualize.\n",
    "\n",
    "Once you've done several executions, let's visualize the record of our inferences. Pull in the JSONLines data from your inferences like so:"
   ]
  },
  {
   "cell_type": "code",
   "execution_count": 109,
   "metadata": {},
   "outputs": [],
   "source": [
    "from sagemaker.s3 import S3Downloader\n",
    "\n",
    "# In S3 your data will be saved to a datetime-aware path\n",
    "# Find a path related to a datetime you're interested in\n",
    "\n",
    "# Feel free to repeat this multiple times and pull in more data\n",
    "\n",
    "# data_path = 's3://sagemaker-us-east-1-513508352252/p2_data_capture/image-classification-2022-02-12-22-34-22-368/AllTraffic/2022/02/12/22/'\n",
    "# S3Downloader.download(data_path, \"captured_data\")\n",
    "\n",
    "# data_path = 's3://sagemaker-us-east-1-513508352252/p2_data_capture/image-classification-2022-02-12-22-34-22-368/AllTraffic/2022/02/14/18/'## TODO: fill in the path to your captured data\n",
    "# S3Downloader.download(data_path, \"captured_data\")\n",
    "\n",
    "data_path = 's3://sagemaker-us-east-1-513508352252/p2_data_capture/image-classification-2022-02-14-19-20-14-783/AllTraffic/2022/02/14/19/'## TODO: fill in the path to your captured data\n",
    "S3Downloader.download(data_path, \"captured_data\")\n",
    "\n",
    "\n"
   ]
  },
  {
   "cell_type": "markdown",
   "metadata": {},
   "source": [
    "The data are in JSONLines format, where multiple valid JSON objects are stacked on top of eachother in a single `jsonl` file. We'll import an open-source library, `jsonlines` that was purpose built for parsing this format."
   ]
  },
  {
   "cell_type": "code",
   "execution_count": 33,
   "metadata": {},
   "outputs": [
    {
     "name": "stdout",
     "output_type": "stream",
     "text": [
      "/opt/conda/lib/python3.7/site-packages/secretstorage/dhcrypto.py:16: CryptographyDeprecationWarning: int_from_bytes is deprecated, use int.from_bytes instead\n",
      "  from cryptography.utils import int_from_bytes\n",
      "/opt/conda/lib/python3.7/site-packages/secretstorage/util.py:25: CryptographyDeprecationWarning: int_from_bytes is deprecated, use int.from_bytes instead\n",
      "  from cryptography.utils import int_from_bytes\n",
      "Collecting jsonlines\n",
      "  Downloading jsonlines-3.0.0-py3-none-any.whl (8.5 kB)\n",
      "Requirement already satisfied: attrs>=19.2.0 in /opt/conda/lib/python3.7/site-packages (from jsonlines) (19.3.0)\n",
      "Requirement already satisfied: typing-extensions in /opt/conda/lib/python3.7/site-packages (from jsonlines) (4.0.1)\n",
      "Installing collected packages: jsonlines\n",
      "Successfully installed jsonlines-3.0.0\n",
      "\u001b[33mWARNING: Running pip as the 'root' user can result in broken permissions and conflicting behaviour with the system package manager. It is recommended to use a virtual environment instead: https://pip.pypa.io/warnings/venv\u001b[0m\n",
      "\u001b[33mWARNING: You are using pip version 21.3.1; however, version 22.0.3 is available.\n",
      "You should consider upgrading via the '/opt/conda/bin/python -m pip install --upgrade pip' command.\u001b[0m\n"
     ]
    }
   ],
   "source": [
    "!pip install jsonlines\n",
    "import jsonlines"
   ]
  },
  {
   "cell_type": "markdown",
   "metadata": {},
   "source": [
    "Now we can extract the data from each of the source files:"
   ]
  },
  {
   "cell_type": "code",
   "execution_count": 110,
   "metadata": {},
   "outputs": [],
   "source": [
    "import os\n",
    "\n",
    "# List the file names we downloaded\n",
    "file_handles = os.listdir(\"./captured_data\")\n",
    "\n",
    "# Dump all the data into an array\n",
    "json_data = []\n",
    "for jsonl in file_handles:\n",
    "    with jsonlines.open(f\"./captured_data/{jsonl}\") as f:\n",
    "        json_data.append(f.read())"
   ]
  },
  {
   "cell_type": "markdown",
   "metadata": {},
   "source": [
    "The data should now be a list of dictionaries, with significant nesting. We'll give you an example of some code that grabs data out of the objects and visualizes it:"
   ]
  },
  {
   "cell_type": "code",
   "execution_count": 111,
   "metadata": {},
   "outputs": [
    {
     "data": {
      "text/plain": [
       "([0.954087495803833, 0.04591254144906998], '2022-02-14T19:29:46Z')"
      ]
     },
     "execution_count": 111,
     "metadata": {},
     "output_type": "execute_result"
    }
   ],
   "source": [
    "import json\n",
    "# Define how we'll get our data\n",
    "def simple_getter(obj):\n",
    "    inferences = obj[\"captureData\"][\"endpointOutput\"][\"data\"]\n",
    "    timestamp = obj[\"eventMetadata\"][\"inferenceTime\"]\n",
    "    return json.loads(inferences), timestamp\n",
    "\n",
    "simple_getter(json_data[0])"
   ]
  },
  {
   "cell_type": "markdown",
   "metadata": {},
   "source": [
    "Finally, here's an example of a visualization you can build with this data. In this last part, you will take some time and build your own - the captured data has the input images, the resulting inferences, and the timestamps."
   ]
  },
  {
   "cell_type": "code",
   "execution_count": 112,
   "metadata": {},
   "outputs": [],
   "source": [
    "import matplotlib.pyplot as plt\n",
    "\n",
    "def plot_graph():\n",
    "    # Populate the data for the x and y axis\n",
    "    x = []\n",
    "    y = []\n",
    "    for obj in json_data:\n",
    "        inference, timestamp = simple_getter(obj)\n",
    "\n",
    "        y.append(max(inference))\n",
    "        x.append(timestamp)\n",
    "\n",
    "    # Todo: here is an visualization example, take some time to build another visual that helps monitor the result\n",
    "    # Plot the data\n",
    "    plt.figure(figsize=(10,8))\n",
    "    plt.scatter(x, y, c=['r' if k<.94 else 'b' for k in y ])\n",
    "    plt.axhline(y=0.94, color='g', linestyle='--')\n",
    "    plt.ylim(bottom=.88)\n",
    "\n",
    "    # Add labels\n",
    "    plt.ylabel(\"Confidence\")\n",
    "    plt.suptitle(\"Observed Recent Inferences\", size=14)\n",
    "    plt.title(\"Pictured with confidence threshold for production use\", size=10)\n",
    "\n",
    "    # Give it some pizzaz!\n",
    "    plt.style.use(\"Solarize_Light2\")\n",
    "    plt.gcf().autofmt_xdate()"
   ]
  },
  {
   "cell_type": "code",
   "execution_count": 113,
   "metadata": {},
   "outputs": [
    {
     "data": {
      "image/png": "[encoded data removed]",
      "text/plain": [
       "<Figure size 720x576 with 1 Axes>"
      ]
     },
     "metadata": {},
     "output_type": "display_data"
    }
   ],
   "source": [
    "plot_graph()"
   ]
  },
  {
   "cell_type": "markdown",
   "metadata": {},
   "source": [
    "## TODO: to build your own visualizations:"
   ]
  },
  {
   "cell_type": "code",
   "execution_count": 114,
   "metadata": {},
   "outputs": [
    {
     "data": {
      "text/plain": [
       "([0.9996597766876221, 0.00034020873135887086], '2022-02-14T18:39:37Z')"
      ]
     },
     "execution_count": 114,
     "metadata": {},
     "output_type": "execute_result"
    }
   ],
   "source": [
    "import json\n",
    "# The data should now be a list of dictionaries, with significant nesting.\n",
    "\n",
    "# Define function to get inference and time stamp data\n",
    "def simple_getter_2(obj):\n",
    "    inferences = json.loads(obj[\"captureData\"][\"endpointOutput\"][\"data\"])\n",
    "    timestamp = obj[\"eventMetadata\"][\"inferenceTime\"]\n",
    "    return timestamp, inferences[0], inferences[1]\n",
    "\n",
    "# print one data as an example\n",
    "simple_getter(json_data[5])"
   ]
  },
  {
   "cell_type": "markdown",
   "metadata": {},
   "source": [
    "## Build a Table of data"
   ]
  },
  {
   "cell_type": "code",
   "execution_count": 54,
   "metadata": {},
   "outputs": [
    {
     "name": "stdout",
     "output_type": "stream",
     "text": [
      "/opt/conda/lib/python3.7/site-packages/secretstorage/dhcrypto.py:16: CryptographyDeprecationWarning: int_from_bytes is deprecated, use int.from_bytes instead\n",
      "  from cryptography.utils import int_from_bytes\n",
      "/opt/conda/lib/python3.7/site-packages/secretstorage/util.py:25: CryptographyDeprecationWarning: int_from_bytes is deprecated, use int.from_bytes instead\n",
      "  from cryptography.utils import int_from_bytes\n",
      "Collecting prettytable\n",
      "  Downloading prettytable-3.1.0-py3-none-any.whl (26 kB)\n",
      "Requirement already satisfied: importlib-metadata in /opt/conda/lib/python3.7/site-packages (from prettytable) (1.5.0)\n",
      "Requirement already satisfied: wcwidth in /opt/conda/lib/python3.7/site-packages (from prettytable) (0.1.8)\n",
      "Requirement already satisfied: zipp>=0.5 in /opt/conda/lib/python3.7/site-packages (from importlib-metadata->prettytable) (2.2.0)\n",
      "Installing collected packages: prettytable\n",
      "Successfully installed prettytable-3.1.0\n",
      "\u001b[33mWARNING: Running pip as the 'root' user can result in broken permissions and conflicting behaviour with the system package manager. It is recommended to use a virtual environment instead: https://pip.pypa.io/warnings/venv\u001b[0m\n",
      "\u001b[33mWARNING: You are using pip version 21.3.1; however, version 22.0.3 is available.\n",
      "You should consider upgrading via the '/opt/conda/bin/python -m pip install --upgrade pip' command.\u001b[0m\n"
     ]
    }
   ],
   "source": [
    "!pip install prettytable"
   ]
  },
  {
   "cell_type": "code",
   "execution_count": 115,
   "metadata": {},
   "outputs": [
    {
     "name": "stdout",
     "output_type": "stream",
     "text": [
      "+----------------------+--------------------+------------------------+\n",
      "|    inference_Time    |    bicycle_Prob    |    motorcycle_Prob     |\n",
      "+----------------------+--------------------+------------------------+\n",
      "| 2022-02-14T19:29:46Z | 0.954087495803833  |  0.04591254144906998   |\n",
      "| 2022-02-14T18:38:01Z | 0.9996597766876221 | 0.00034020873135887086 |\n",
      "| 2022-02-14T18:34:08Z | 0.9996597766876221 | 0.00034020873135887086 |\n",
      "| 2022-02-14T18:36:11Z | 0.9996597766876221 | 0.00034020873135887086 |\n",
      "| 2022-02-14T19:44:55Z | 0.954087495803833  |  0.04591254144906998   |\n",
      "| 2022-02-14T18:39:37Z | 0.9996597766876221 | 0.00034020873135887086 |\n",
      "| 2022-02-12T22:42:25Z | 0.9889891743659973 |  0.011010786518454552  |\n",
      "| 2022-02-14T19:28:45Z | 0.9115113615989685 |  0.08848868310451508   |\n",
      "+----------------------+--------------------+------------------------+\n"
     ]
    }
   ],
   "source": [
    "# build a Table of data: timestamp, predicted probability value for bicycle and motorcycle classes, and annotation fields\n",
    "from prettytable import PrettyTable\n",
    "\n",
    "# initialize the Table and specify column names \n",
    "myTable = PrettyTable([\"inference_Time\", \"bicycle_Prob\", \"motorcycle_Prob\"])\n",
    "\n",
    "# variable data to save data for datframe\n",
    "data = []\n",
    "\n",
    "# Add rows\n",
    "for obj in json_data:\n",
    "    row_data = simple_getter_2(obj)\n",
    "    myTable.add_row(row_data)\n",
    "    data.append(row_data)\n",
    "    \n",
    "print(myTable)\n"
   ]
  },
  {
   "cell_type": "code",
   "execution_count": 116,
   "metadata": {},
   "outputs": [],
   "source": [
    "# saving data to a dataframe\n",
    "import pandas as pd\n",
    "\n",
    "df = pd.DataFrame(data = data, columns = [\"inference_time\", \"bicycle\", \"motorcycle\"])"
   ]
  },
  {
   "cell_type": "code",
   "execution_count": 117,
   "metadata": {},
   "outputs": [
    {
     "data": {
      "text/html": [
       "<div>\n",
       "<style scoped>\n",
       "    .dataframe tbody tr th:only-of-type {\n",
       "        vertical-align: middle;\n",
       "    }\n",
       "\n",
       "    .dataframe tbody tr th {\n",
       "        vertical-align: top;\n",
       "    }\n",
       "\n",
       "    .dataframe thead th {\n",
       "        text-align: right;\n",
       "    }\n",
       "</style>\n",
       "<table border=\"1\" class=\"dataframe\">\n",
       "  <thead>\n",
       "    <tr style=\"text-align: right;\">\n",
       "      <th></th>\n",
       "      <th>inference_time</th>\n",
       "      <th>bicycle</th>\n",
       "      <th>motorcycle</th>\n",
       "    </tr>\n",
       "  </thead>\n",
       "  <tbody>\n",
       "    <tr>\n",
       "      <th>0</th>\n",
       "      <td>2022-02-14T19:29:46Z</td>\n",
       "      <td>0.954087</td>\n",
       "      <td>0.045913</td>\n",
       "    </tr>\n",
       "    <tr>\n",
       "      <th>1</th>\n",
       "      <td>2022-02-14T18:38:01Z</td>\n",
       "      <td>0.999660</td>\n",
       "      <td>0.000340</td>\n",
       "    </tr>\n",
       "    <tr>\n",
       "      <th>2</th>\n",
       "      <td>2022-02-14T18:34:08Z</td>\n",
       "      <td>0.999660</td>\n",
       "      <td>0.000340</td>\n",
       "    </tr>\n",
       "    <tr>\n",
       "      <th>3</th>\n",
       "      <td>2022-02-14T18:36:11Z</td>\n",
       "      <td>0.999660</td>\n",
       "      <td>0.000340</td>\n",
       "    </tr>\n",
       "    <tr>\n",
       "      <th>4</th>\n",
       "      <td>2022-02-14T19:44:55Z</td>\n",
       "      <td>0.954087</td>\n",
       "      <td>0.045913</td>\n",
       "    </tr>\n",
       "    <tr>\n",
       "      <th>5</th>\n",
       "      <td>2022-02-14T18:39:37Z</td>\n",
       "      <td>0.999660</td>\n",
       "      <td>0.000340</td>\n",
       "    </tr>\n",
       "    <tr>\n",
       "      <th>6</th>\n",
       "      <td>2022-02-12T22:42:25Z</td>\n",
       "      <td>0.988989</td>\n",
       "      <td>0.011011</td>\n",
       "    </tr>\n",
       "    <tr>\n",
       "      <th>7</th>\n",
       "      <td>2022-02-14T19:28:45Z</td>\n",
       "      <td>0.911511</td>\n",
       "      <td>0.088489</td>\n",
       "    </tr>\n",
       "  </tbody>\n",
       "</table>\n",
       "</div>"
      ],
      "text/plain": [
       "         inference_time   bicycle  motorcycle\n",
       "0  2022-02-14T19:29:46Z  0.954087    0.045913\n",
       "1  2022-02-14T18:38:01Z  0.999660    0.000340\n",
       "2  2022-02-14T18:34:08Z  0.999660    0.000340\n",
       "3  2022-02-14T18:36:11Z  0.999660    0.000340\n",
       "4  2022-02-14T19:44:55Z  0.954087    0.045913\n",
       "5  2022-02-14T18:39:37Z  0.999660    0.000340\n",
       "6  2022-02-12T22:42:25Z  0.988989    0.011011\n",
       "7  2022-02-14T19:28:45Z  0.911511    0.088489"
      ]
     },
     "execution_count": 117,
     "metadata": {},
     "output_type": "execute_result"
    }
   ],
   "source": [
    "df"
   ]
  },
  {
   "cell_type": "code",
   "execution_count": 118,
   "metadata": {},
   "outputs": [
    {
     "name": "stdout",
     "output_type": "stream",
     "text": [
      "['image_index0.png', 'image_index1.png', 'image_index2.png', 'image_index3.png', 'image_index4.png', 'image_index5.png', 'image_index6.png']\n"
     ]
    }
   ],
   "source": [
    "print(fname_List)"
   ]
  },
  {
   "cell_type": "code",
   "execution_count": 16,
   "metadata": {},
   "outputs": [
    {
     "name": "stdout",
     "output_type": "stream",
     "text": [
      "/opt/conda/lib/python3.7/site-packages/secretstorage/dhcrypto.py:16: CryptographyDeprecationWarning: int_from_bytes is deprecated, use int.from_bytes instead\n",
      "  from cryptography.utils import int_from_bytes\n",
      "/opt/conda/lib/python3.7/site-packages/secretstorage/util.py:25: CryptographyDeprecationWarning: int_from_bytes is deprecated, use int.from_bytes instead\n",
      "  from cryptography.utils import int_from_bytes\n",
      "Collecting num2words\n",
      "  Using cached num2words-0.5.10-py3-none-any.whl (101 kB)\n",
      "Requirement already satisfied: docopt>=0.6.2 in /opt/conda/lib/python3.7/site-packages (from num2words) (0.6.2)\n",
      "Installing collected packages: num2words\n",
      "Successfully installed num2words-0.5.10\n",
      "\u001b[33mWARNING: Running pip as the 'root' user can result in broken permissions and conflicting behaviour with the system package manager. It is recommended to use a virtual environment instead: https://pip.pypa.io/warnings/venv\u001b[0m\n"
     ]
    }
   ],
   "source": [
    "!pip install num2words"
   ]
  },
  {
   "cell_type": "markdown",
   "metadata": {},
   "source": [
    "### Figure 1: plot the images for annotation"
   ]
  },
  {
   "cell_type": "markdown",
   "metadata": {},
   "source": [
    "### annotate the images according to sequence in Figure 1 above"
   ]
  },
  {
   "cell_type": "code",
   "execution_count": 120,
   "metadata": {},
   "outputs": [],
   "source": [
    "annotation = ['bicycle', 'bicycle', 'bicycle', 'bicycle','bicycle',\n",
    "              'motorcycle', 'bicycle', 'bicycle', 'motorcycle', 'motorcycle',\n",
    "              'bicycle', 'motorcycle', 'bicycle', 'bicycle', 'motorcycle',\n",
    "              'motorcycle','motorcycle', 'bicycle', 'bicycle', 'motorcycle']"
   ]
  },
  {
   "cell_type": "code",
   "execution_count": 121,
   "metadata": {},
   "outputs": [
    {
     "data": {
      "text/html": [
       "<div>\n",
       "<style scoped>\n",
       "    .dataframe tbody tr th:only-of-type {\n",
       "        vertical-align: middle;\n",
       "    }\n",
       "\n",
       "    .dataframe tbody tr th {\n",
       "        vertical-align: top;\n",
       "    }\n",
       "\n",
       "    .dataframe thead th {\n",
       "        text-align: right;\n",
       "    }\n",
       "</style>\n",
       "<table border=\"1\" class=\"dataframe\">\n",
       "  <thead>\n",
       "    <tr style=\"text-align: right;\">\n",
       "      <th></th>\n",
       "      <th>inference_time</th>\n",
       "      <th>bicycle</th>\n",
       "      <th>motorcycle</th>\n",
       "      <th>ground_truth</th>\n",
       "    </tr>\n",
       "  </thead>\n",
       "  <tbody>\n",
       "    <tr>\n",
       "      <th>0</th>\n",
       "      <td>2022-02-14T19:29:46Z</td>\n",
       "      <td>0.954087</td>\n",
       "      <td>0.045913</td>\n",
       "      <td>bicycle</td>\n",
       "    </tr>\n",
       "    <tr>\n",
       "      <th>1</th>\n",
       "      <td>2022-02-14T18:38:01Z</td>\n",
       "      <td>0.999660</td>\n",
       "      <td>0.000340</td>\n",
       "      <td>bicycle</td>\n",
       "    </tr>\n",
       "    <tr>\n",
       "      <th>2</th>\n",
       "      <td>2022-02-14T18:34:08Z</td>\n",
       "      <td>0.999660</td>\n",
       "      <td>0.000340</td>\n",
       "      <td>bicycle</td>\n",
       "    </tr>\n",
       "    <tr>\n",
       "      <th>3</th>\n",
       "      <td>2022-02-14T18:36:11Z</td>\n",
       "      <td>0.999660</td>\n",
       "      <td>0.000340</td>\n",
       "      <td>bicycle</td>\n",
       "    </tr>\n",
       "    <tr>\n",
       "      <th>4</th>\n",
       "      <td>2022-02-14T19:44:55Z</td>\n",
       "      <td>0.954087</td>\n",
       "      <td>0.045913</td>\n",
       "      <td>bicycle</td>\n",
       "    </tr>\n",
       "    <tr>\n",
       "      <th>5</th>\n",
       "      <td>2022-02-14T18:39:37Z</td>\n",
       "      <td>0.999660</td>\n",
       "      <td>0.000340</td>\n",
       "      <td>motorcycle</td>\n",
       "    </tr>\n",
       "    <tr>\n",
       "      <th>6</th>\n",
       "      <td>2022-02-12T22:42:25Z</td>\n",
       "      <td>0.988989</td>\n",
       "      <td>0.011011</td>\n",
       "      <td>bicycle</td>\n",
       "    </tr>\n",
       "    <tr>\n",
       "      <th>7</th>\n",
       "      <td>2022-02-14T19:28:45Z</td>\n",
       "      <td>0.911511</td>\n",
       "      <td>0.088489</td>\n",
       "      <td>bicycle</td>\n",
       "    </tr>\n",
       "  </tbody>\n",
       "</table>\n",
       "</div>"
      ],
      "text/plain": [
       "         inference_time   bicycle  motorcycle ground_truth\n",
       "0  2022-02-14T19:29:46Z  0.954087    0.045913      bicycle\n",
       "1  2022-02-14T18:38:01Z  0.999660    0.000340      bicycle\n",
       "2  2022-02-14T18:34:08Z  0.999660    0.000340      bicycle\n",
       "3  2022-02-14T18:36:11Z  0.999660    0.000340      bicycle\n",
       "4  2022-02-14T19:44:55Z  0.954087    0.045913      bicycle\n",
       "5  2022-02-14T18:39:37Z  0.999660    0.000340   motorcycle\n",
       "6  2022-02-12T22:42:25Z  0.988989    0.011011      bicycle\n",
       "7  2022-02-14T19:28:45Z  0.911511    0.088489      bicycle"
      ]
     },
     "execution_count": 121,
     "metadata": {},
     "output_type": "execute_result"
    }
   ],
   "source": [
    "## add annotation to data frame\n",
    "ground_truth = pd.Series(annotation)\n",
    "ann_data_dict = {\"inference_time\":df.inference_time,\n",
    "                 \"bicycle\":df.bicycle,\n",
    "                 \"motorcycle\":df.motorcycle,\n",
    "                 \"ground_truth\":ground_truth}\n",
    "ann_df = pd.concat(ann_data_dict, axis = 1)\n",
    "ann_df = ann_df.dropna()\n",
    "ann_df"
   ]
  },
  {
   "cell_type": "code",
   "execution_count": 122,
   "metadata": {},
   "outputs": [
    {
     "data": {
      "text/html": [
       "<div>\n",
       "<style scoped>\n",
       "    .dataframe tbody tr th:only-of-type {\n",
       "        vertical-align: middle;\n",
       "    }\n",
       "\n",
       "    .dataframe tbody tr th {\n",
       "        vertical-align: top;\n",
       "    }\n",
       "\n",
       "    .dataframe thead th {\n",
       "        text-align: right;\n",
       "    }\n",
       "</style>\n",
       "<table border=\"1\" class=\"dataframe\">\n",
       "  <thead>\n",
       "    <tr style=\"text-align: right;\">\n",
       "      <th></th>\n",
       "      <th>inference_time</th>\n",
       "      <th>ground_truth</th>\n",
       "      <th>predicted</th>\n",
       "      <th>probability</th>\n",
       "    </tr>\n",
       "  </thead>\n",
       "  <tbody>\n",
       "    <tr>\n",
       "      <th>0</th>\n",
       "      <td>2022-02-14T19:29:46Z</td>\n",
       "      <td>bicycle</td>\n",
       "      <td>bicycle</td>\n",
       "      <td>0.954087</td>\n",
       "    </tr>\n",
       "    <tr>\n",
       "      <th>1</th>\n",
       "      <td>2022-02-14T18:38:01Z</td>\n",
       "      <td>bicycle</td>\n",
       "      <td>bicycle</td>\n",
       "      <td>0.999660</td>\n",
       "    </tr>\n",
       "    <tr>\n",
       "      <th>2</th>\n",
       "      <td>2022-02-14T18:34:08Z</td>\n",
       "      <td>bicycle</td>\n",
       "      <td>bicycle</td>\n",
       "      <td>0.999660</td>\n",
       "    </tr>\n",
       "    <tr>\n",
       "      <th>3</th>\n",
       "      <td>2022-02-14T18:36:11Z</td>\n",
       "      <td>bicycle</td>\n",
       "      <td>bicycle</td>\n",
       "      <td>0.999660</td>\n",
       "    </tr>\n",
       "    <tr>\n",
       "      <th>4</th>\n",
       "      <td>2022-02-14T19:44:55Z</td>\n",
       "      <td>bicycle</td>\n",
       "      <td>bicycle</td>\n",
       "      <td>0.954087</td>\n",
       "    </tr>\n",
       "    <tr>\n",
       "      <th>5</th>\n",
       "      <td>2022-02-14T18:39:37Z</td>\n",
       "      <td>motorcycle</td>\n",
       "      <td>bicycle</td>\n",
       "      <td>0.999660</td>\n",
       "    </tr>\n",
       "    <tr>\n",
       "      <th>6</th>\n",
       "      <td>2022-02-12T22:42:25Z</td>\n",
       "      <td>bicycle</td>\n",
       "      <td>bicycle</td>\n",
       "      <td>0.988989</td>\n",
       "    </tr>\n",
       "    <tr>\n",
       "      <th>7</th>\n",
       "      <td>2022-02-14T19:28:45Z</td>\n",
       "      <td>bicycle</td>\n",
       "      <td>bicycle</td>\n",
       "      <td>0.911511</td>\n",
       "    </tr>\n",
       "    <tr>\n",
       "      <th>8</th>\n",
       "      <td>2022-02-14T19:29:46Z</td>\n",
       "      <td>bicycle</td>\n",
       "      <td>motorcycle</td>\n",
       "      <td>0.045913</td>\n",
       "    </tr>\n",
       "    <tr>\n",
       "      <th>9</th>\n",
       "      <td>2022-02-14T18:38:01Z</td>\n",
       "      <td>bicycle</td>\n",
       "      <td>motorcycle</td>\n",
       "      <td>0.000340</td>\n",
       "    </tr>\n",
       "    <tr>\n",
       "      <th>10</th>\n",
       "      <td>2022-02-14T18:34:08Z</td>\n",
       "      <td>bicycle</td>\n",
       "      <td>motorcycle</td>\n",
       "      <td>0.000340</td>\n",
       "    </tr>\n",
       "    <tr>\n",
       "      <th>11</th>\n",
       "      <td>2022-02-14T18:36:11Z</td>\n",
       "      <td>bicycle</td>\n",
       "      <td>motorcycle</td>\n",
       "      <td>0.000340</td>\n",
       "    </tr>\n",
       "    <tr>\n",
       "      <th>12</th>\n",
       "      <td>2022-02-14T19:44:55Z</td>\n",
       "      <td>bicycle</td>\n",
       "      <td>motorcycle</td>\n",
       "      <td>0.045913</td>\n",
       "    </tr>\n",
       "    <tr>\n",
       "      <th>13</th>\n",
       "      <td>2022-02-14T18:39:37Z</td>\n",
       "      <td>motorcycle</td>\n",
       "      <td>motorcycle</td>\n",
       "      <td>0.000340</td>\n",
       "    </tr>\n",
       "    <tr>\n",
       "      <th>14</th>\n",
       "      <td>2022-02-12T22:42:25Z</td>\n",
       "      <td>bicycle</td>\n",
       "      <td>motorcycle</td>\n",
       "      <td>0.011011</td>\n",
       "    </tr>\n",
       "    <tr>\n",
       "      <th>15</th>\n",
       "      <td>2022-02-14T19:28:45Z</td>\n",
       "      <td>bicycle</td>\n",
       "      <td>motorcycle</td>\n",
       "      <td>0.088489</td>\n",
       "    </tr>\n",
       "  </tbody>\n",
       "</table>\n",
       "</div>"
      ],
      "text/plain": [
       "          inference_time ground_truth   predicted  probability\n",
       "0   2022-02-14T19:29:46Z      bicycle     bicycle     0.954087\n",
       "1   2022-02-14T18:38:01Z      bicycle     bicycle     0.999660\n",
       "2   2022-02-14T18:34:08Z      bicycle     bicycle     0.999660\n",
       "3   2022-02-14T18:36:11Z      bicycle     bicycle     0.999660\n",
       "4   2022-02-14T19:44:55Z      bicycle     bicycle     0.954087\n",
       "5   2022-02-14T18:39:37Z   motorcycle     bicycle     0.999660\n",
       "6   2022-02-12T22:42:25Z      bicycle     bicycle     0.988989\n",
       "7   2022-02-14T19:28:45Z      bicycle     bicycle     0.911511\n",
       "8   2022-02-14T19:29:46Z      bicycle  motorcycle     0.045913\n",
       "9   2022-02-14T18:38:01Z      bicycle  motorcycle     0.000340\n",
       "10  2022-02-14T18:34:08Z      bicycle  motorcycle     0.000340\n",
       "11  2022-02-14T18:36:11Z      bicycle  motorcycle     0.000340\n",
       "12  2022-02-14T19:44:55Z      bicycle  motorcycle     0.045913\n",
       "13  2022-02-14T18:39:37Z   motorcycle  motorcycle     0.000340\n",
       "14  2022-02-12T22:42:25Z      bicycle  motorcycle     0.011011\n",
       "15  2022-02-14T19:28:45Z      bicycle  motorcycle     0.088489"
      ]
     },
     "execution_count": 122,
     "metadata": {},
     "output_type": "execute_result"
    }
   ],
   "source": [
    "# prepare data into a long format dataframe for plotting\n",
    "df_long = ann_df.melt(id_vars=[\"inference_time\", \"ground_truth\"], var_name=\"predicted\", value_name=\"probability\")\n",
    "df_long"
   ]
  },
  {
   "cell_type": "code",
   "execution_count": 123,
   "metadata": {},
   "outputs": [
    {
     "name": "stdout",
     "output_type": "stream",
     "text": [
      "<class 'pandas.core.frame.DataFrame'>\n"
     ]
    },
    {
     "data": {
      "text/plain": [
       "inference_time     object\n",
       "ground_truth       object\n",
       "predicted          object\n",
       "probability       float64\n",
       "dtype: object"
      ]
     },
     "execution_count": 123,
     "metadata": {},
     "output_type": "execute_result"
    }
   ],
   "source": [
    "print(type(df_long))\n",
    "df_long.dtypes"
   ]
  },
  {
   "cell_type": "code",
   "execution_count": 124,
   "metadata": {},
   "outputs": [],
   "source": [
    "import matplotlib.pyplot as plt\n",
    "import matplotlib.patches as mpatches\n",
    "\n",
    "# convert df_long.ground_truth into category for colors in the chart\n",
    "df_long.ground_truth = df_long.ground_truth.astype('category').cat.codes\n",
    "\n",
    "# group by df_long.predicted for markers in the chart\n",
    "df_g = df_long.groupby('predicted')"
   ]
  },
  {
   "cell_type": "code",
   "execution_count": 81,
   "metadata": {},
   "outputs": [
    {
     "name": "stdout",
     "output_type": "stream",
     "text": [
      "bicycle\n",
      "motorcycle\n"
     ]
    }
   ],
   "source": [
    "for group in df_g.groups:\n",
    "    print(group)"
   ]
  },
  {
   "cell_type": "code",
   "execution_count": 125,
   "metadata": {},
   "outputs": [
    {
     "data": {
      "image/png": "[encoded data removed]",
      "text/plain": [
       "<Figure size 432x288 with 1 Axes>"
      ]
     },
     "metadata": {},
     "output_type": "display_data"
    }
   ],
   "source": [
    "x = []\n",
    "y = []\n",
    "for obj in json_data:\n",
    "    inference, timestamp = simple_getter(obj)\n",
    "    \n",
    "    y.append(inference[0])\n",
    "    x.append(timestamp)\n",
    "\n",
    "threshold = 0.93\n",
    "\n",
    "plt.bar(x, y)\n",
    "plt.axhline(y=threshold, color='g', linestyle='--')\n",
    "plt.axhline(y=1-threshold, color='r', linestyle='--')\n",
    "plt.axhline(y=0.5, color='black', linestyle='--')\n",
    "#plt.ylim(bottom=.88)\n",
    "\n",
    "# Add labels\n",
    "plt.ylabel(\"<- Bicycle Motorcycle ->\")\n",
    "plt.suptitle(\"Observed Recent Inferences\", size=14)\n",
    "plt.title(\"Pictured with confidence threshold for production use\", size=10)\n",
    "\n",
    "# Give it some pizzaz!\n",
    "plt.style.use(\"Solarize_Light2\")\n",
    "plt.gcf().autofmt_xdate()"
   ]
  },
  {
   "cell_type": "markdown",
   "metadata": {},
   "source": [
    "## In the chart above:\n",
    "Inferences are greater than 0.5 (above the dotted black line), i.e., motorcycle. The nferences have a confidence level above the threshold (bar is above the dotted green line)\n"
   ]
  },
  {
   "cell_type": "markdown",
   "metadata": {},
   "source": [
    "### Figure 2: model predicted probabilities for bicycles and motorcycles (markers: 'o' for bicycles and 'x' for motorcycles), colored by ground truth ('blue' for bicycles and 'red' for motorcycles) for every model inference (timestap) in the sample of data."
   ]
  },
  {
   "cell_type": "code",
   "execution_count": 126,
   "metadata": {},
   "outputs": [
    {
     "data": {
      "image/png": "[encoded data removed]",
      "text/plain": [
       "<Figure size 864x576 with 1 Axes>"
      ]
     },
     "metadata": {},
     "output_type": "display_data"
    }
   ],
   "source": [
    "plt.figure(figsize=(12,8))\n",
    "\n",
    "m = ['bicycle','motorcycle']\n",
    "mapping = {'bicycle':'o', 'motorcycle':'x'}\n",
    "i = 0\n",
    "\n",
    "for group in df_g:\n",
    "    plt.scatter(x=df_g.get_group(m[i]).inference_time,\n",
    "            y=df_g.get_group(m[i]).probability,\n",
    "            s=100,\n",
    "            marker=mapping[m[i]],\n",
    "            c=df_g.get_group(m[i]).ground_truth,\n",
    "            cmap='coolwarm')\n",
    "    i = i+1\n",
    "\n",
    "# Add labels\n",
    "plt.ylabel(\"Predicted probability\")\n",
    "plt.xlabel(None)\n",
    "plt.suptitle(\"Model inferences for bicycle and motorcycle\", ha='center', va='baseline', size=16)\n",
    "plt.title(\"(where colors represent the ground truth and marks the model predictions)\", ha='center', va='baseline', size=14)\n",
    "\n",
    "plt.legend(title='predicted', labels=['bicycle', 'motorcycle'])\n",
    "\n",
    "# Give it some pizzaz!\n",
    "plt.style.use(\"Solarize_Light2\")\n",
    "plt.gcf().autofmt_xdate()"
   ]
  },
  {
   "cell_type": "code",
   "execution_count": null,
   "metadata": {},
   "outputs": [],
   "source": []
  },
  {
   "cell_type": "markdown",
   "metadata": {},
   "source": [
    "### Congratulations!\n",
    "\n",
    "You've reached the end of the project. In this project you created an event-drivent ML workflow that can be incorporated into the Scones Unlimited production architecture. You used the SageMaker Estimator API to deploy your SageMaker Model and Endpoint, and you used AWS Lambda and Step Functions to orchestrate your ML workflow. Using SageMaker Model Monitor, you instrumented and observed your Endpoint, and at the end of the project you built a visualization to help stakeholders understand the performance of the Endpoint over time. If you're up for it, you can even go further with these stretch goals:\n",
    "\n",
    "* Extend your workflow to incorporate more classes: the CIFAR dataset includes other vehicles that Scones Unlimited can identify with this model.\n",
    "* Modify your event driven workflow: can you rewrite your Lambda functions so that the workflow can process multiple image inputs in parallel? Can the Step Function \"fan out\" to accomodate this new workflow?\n",
    "* Consider the test data generator we provided for you. Can we use it to create a \"dummy data\" generator, to simulate a continuous stream of input data? Or a big paralell load of data?\n",
    "* What if we want to get notified every time our step function errors out? Can we use the Step Functions visual editor in conjunction with a service like SNS to accomplish this? Try it out!\n",
    "\n",
    "\n"
   ]
  },
  {
   "cell_type": "code",
   "execution_count": 127,
   "metadata": {},
   "outputs": [
    {
     "data": {
      "text/plain": [
       "18040"
      ]
     },
     "execution_count": 127,
     "metadata": {},
     "output_type": "execute_result"
    }
   ],
   "source": [
    "import gc\n",
    "\n",
    "gc.collect()"
   ]
  },
  {
   "cell_type": "code",
   "execution_count": null,
   "metadata": {},
   "outputs": [],
   "source": []
  }
 ],
 "metadata": {
  "instance_type": "ml.t3.medium",
  "kernelspec": {
   "display_name": "Python 3 (Data Science)",
   "language": "python",
   "name": "python3__SAGEMAKER_INTERNAL__arn:aws:sagemaker:us-east-1:081325390199:image/datascience-1.0"
  },
  "language_info": {
   "codemirror_mode": {
    "name": "ipython",
    "version": 3
   },
   "file_extension": ".py",
   "mimetype": "text/x-python",
   "name": "python",
   "nbconvert_exporter": "python",
   "pygments_lexer": "ipython3",
   "version": "3.7.10"
  }
 },
 "nbformat": 4,
 "nbformat_minor": 4
}
